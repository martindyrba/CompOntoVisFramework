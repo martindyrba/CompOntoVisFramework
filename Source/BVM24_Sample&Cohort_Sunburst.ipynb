{
  "cells": [
    {
      "cell_type": "markdown",
      "metadata": {
        "id": "o8TgTHvLoCAT"
      },
      "source": [
        "# Import Libraries"
      ]
    },
    {
      "cell_type": "code",
      "execution_count": 3,
      "metadata": {
        "colab": {
          "base_uri": "https://localhost:8080/",
          "height": 0
        },
        "id": "NXNbJj9boQXR",
        "outputId": "f782ca64-fa98-4a99-a422-976b6ea3dc49"
      },
      "outputs": [
        {
          "output_type": "stream",
          "name": "stdout",
          "text": [
            "Collecting owlready2\n",
            "  Downloading owlready2-0.44.tar.gz (27.3 MB)\n",
            "\u001b[2K     \u001b[90m━━━━━━━━━━━━━━━━━━━━━━━━━━━━━━━━━━━━━━━━\u001b[0m \u001b[32m27.3/27.3 MB\u001b[0m \u001b[31m27.5 MB/s\u001b[0m eta \u001b[36m0:00:00\u001b[0m\n",
            "\u001b[?25h  Installing build dependencies ... \u001b[?25l\u001b[?25hdone\n",
            "  Getting requirements to build wheel ... \u001b[?25l\u001b[?25hdone\n",
            "  Preparing metadata (pyproject.toml) ... \u001b[?25l\u001b[?25hdone\n",
            "Building wheels for collected packages: owlready2\n",
            "  Building wheel for owlready2 (pyproject.toml) ... \u001b[?25l\u001b[?25hdone\n",
            "  Created wheel for owlready2: filename=owlready2-0.44-cp310-cp310-linux_x86_64.whl size=24075246 sha256=11a61ebd900e18b61e24abf4bab15689c0ec6436e5b3de5fb5c31fd9b48a2b92\n",
            "  Stored in directory: /root/.cache/pip/wheels/88/e1/04/583b0743b2907f091204baaa0aef9740f5ba5f3d2f6a5aa00d\n",
            "Successfully built owlready2\n",
            "Installing collected packages: owlready2\n",
            "Successfully installed owlready2-0.44\n",
            "Collecting anytree\n",
            "  Downloading anytree-2.11.1-py3-none-any.whl (41 kB)\n",
            "\u001b[2K     \u001b[90m━━━━━━━━━━━━━━━━━━━━━━━━━━━━━━━━━━━━━━━━\u001b[0m \u001b[32m41.4/41.4 kB\u001b[0m \u001b[31m1.3 MB/s\u001b[0m eta \u001b[36m0:00:00\u001b[0m\n",
            "\u001b[?25hRequirement already satisfied: six in /usr/local/lib/python3.10/dist-packages (from anytree) (1.16.0)\n",
            "Installing collected packages: anytree\n",
            "Successfully installed anytree-2.11.1\n"
          ]
        }
      ],
      "source": [
        "!pip install owlready2\n",
        "!pip install anytree"
      ]
    },
    {
      "cell_type": "code",
      "execution_count": 4,
      "metadata": {
        "id": "O151E-wNmQWM"
      },
      "outputs": [],
      "source": [
        "import plotly.express as px\n",
        "import pandas as pd\n",
        "import numpy as np\n",
        "\n",
        "from sklearn.linear_model import LinearRegression\n",
        "import pickle\n",
        "import os\n",
        "\n",
        "from owlready2 import set_render_func\n",
        "from owlready2 import get_ontology\n",
        "from owlready2 import default_world\n",
        "\n",
        "from anytree import AnyNode, Node, RenderTree\n",
        "from anytree import search\n",
        "from anytree.search import find\n",
        "from anytree import PostOrderIter\n",
        "\n",
        "from operator import add\n"
      ]
    },
    {
      "cell_type": "code",
      "execution_count": 5,
      "metadata": {
        "colab": {
          "base_uri": "https://localhost:8080/",
          "height": 0
        },
        "id": "o_meGAhpoZEw",
        "outputId": "40f2f013-1b72-41d3-f793-a5c73a12000c"
      },
      "outputs": [
        {
          "output_type": "stream",
          "name": "stdout",
          "text": [
            "Mounted at /content/drive\n"
          ]
        }
      ],
      "source": [
        "#Connect to drive to import files\n",
        "from google.colab import drive\n",
        "drive.mount('/content/drive')\n",
        "#drive.mount('/gdrive', force_remount=True)"
      ]
    },
    {
      "cell_type": "markdown",
      "metadata": {
        "id": "VgUPuY7omdXA"
      },
      "source": [
        "# Import Volumetric File"
      ]
    },
    {
      "cell_type": "code",
      "execution_count": 8,
      "metadata": {
        "id": "6CKmhmxRoYXk"
      },
      "outputs": [],
      "source": [
        "#Put path to your file with volumetric information here.\n",
        "#We have 9 columns of meta data information here, including eTIV is a measuemenent of total intracranial volume.\n",
        "\n",
        "#There are 100 ROIs. FastSurfer produces 104 volumetric segments.\n",
        "#We club four ROI's left and right regions under one child-ROI, namely the 3rd-Ventricle, 4th-Ventricle, CSF, and brain stem.\n",
        "#Hence the resultant 100 ROIs.\n",
        "\n",
        "file_df = pd.read_csv( '/content/drive/My Drive/ontology/FastSurfer_Volumes_combined.csv', index_col=False)\n",
        "\n",
        "#For example, if we only want to plot samples from a given cohort\n",
        "cohort = 'ADNI3'\n",
        "df = file_df[file_df['sample']==cohort]\n",
        "\n",
        "# or if we only want to plot a certain disease stage\n",
        "# stage = 'AD'\n",
        "# cohort = 'All'\n",
        "# df = file_df[file_df['grp']==stage]\n",
        "\n",
        "#Consdering all the samples used in our study\n",
        "# df = file_df[file_df['grp'].isin(['CN','MCI','AD'])]"
      ]
    },
    {
      "cell_type": "code",
      "execution_count": 9,
      "metadata": {
        "id": "VrubvBsIqGFF",
        "colab": {
          "base_uri": "https://localhost:8080/",
          "height": 288
        },
        "outputId": "f03c58cb-8472-46ea-9fea-b451e483323e"
      },
      "outputs": [
        {
          "output_type": "stream",
          "name": "stdout",
          "text": [
            "number of data samples: 572\n"
          ]
        },
        {
          "output_type": "execute_result",
          "data": {
            "text/plain": [
              "      sid sample  grp  sex1f   age  education_y MMSE  MRI_field_strength  \\\n",
              "952  6001  ADNI3   CN    1.0  72.0         16.0   29                 3.0   \n",
              "953  6002  ADNI3  MCI    0.0  72.0         16.0   30                 3.0   \n",
              "954  6005  ADNI3   CN    1.0  67.0         16.0   29                 3.0   \n",
              "955  6007  ADNI3   CN    1.0  77.0         13.0   29                 3.0   \n",
              "956  6008  ADNI3   CN    1.0  63.0         16.0   29                 3.0   \n",
              "\n",
              "        eTIV  3rd-Ventricle  ...  Right-Cerebral-White-Matter  \\\n",
              "952  1209905         1853.9  ...                     174640.5   \n",
              "953  1393639         1181.7  ...                     194609.9   \n",
              "954  1520953         1479.5  ...                     244781.9   \n",
              "955  1462717         1623.8  ...                     232120.8   \n",
              "956  1388685         1031.5  ...                     196437.7   \n",
              "\n",
              "     Right-choroid-plexus  Right-Hippocampus  Right-Inf-Lat-Vent  \\\n",
              "952                 662.7             3090.1               370.1   \n",
              "953                 930.7             4328.4               342.2   \n",
              "954                 713.6             4248.9               466.9   \n",
              "955                 975.2             3908.6               303.4   \n",
              "956                 942.3             3934.3               404.4   \n",
              "\n",
              "     Right-Lateral-Ventricle  Right-Pallidum  Right-Putamen  \\\n",
              "952                  15634.7          1550.9         3758.7   \n",
              "953                   9956.4          1823.5         4207.2   \n",
              "954                   9851.1          1888.4         3251.3   \n",
              "955                  10426.1          2011.4         4292.4   \n",
              "956                  11055.9          1880.0         4231.6   \n",
              "\n",
              "     Right-Thalamus-Proper  Right-VentralDC  WM-hypointensities  \n",
              "952                 5037.0           3101.0              1853.1  \n",
              "953                 5366.7           3885.1              1281.2  \n",
              "954                 6562.4           4037.2              3462.0  \n",
              "955                 7167.4           3831.5              4764.6  \n",
              "956                 6680.5           4217.9             13050.0  \n",
              "\n",
              "[5 rows x 109 columns]"
            ],
            "text/html": [
              "\n",
              "  <div id=\"df-19c6e49b-bf03-4f0a-8545-c1ca4cdf21b2\" class=\"colab-df-container\">\n",
              "    <div>\n",
              "<style scoped>\n",
              "    .dataframe tbody tr th:only-of-type {\n",
              "        vertical-align: middle;\n",
              "    }\n",
              "\n",
              "    .dataframe tbody tr th {\n",
              "        vertical-align: top;\n",
              "    }\n",
              "\n",
              "    .dataframe thead th {\n",
              "        text-align: right;\n",
              "    }\n",
              "</style>\n",
              "<table border=\"1\" class=\"dataframe\">\n",
              "  <thead>\n",
              "    <tr style=\"text-align: right;\">\n",
              "      <th></th>\n",
              "      <th>sid</th>\n",
              "      <th>sample</th>\n",
              "      <th>grp</th>\n",
              "      <th>sex1f</th>\n",
              "      <th>age</th>\n",
              "      <th>education_y</th>\n",
              "      <th>MMSE</th>\n",
              "      <th>MRI_field_strength</th>\n",
              "      <th>eTIV</th>\n",
              "      <th>3rd-Ventricle</th>\n",
              "      <th>...</th>\n",
              "      <th>Right-Cerebral-White-Matter</th>\n",
              "      <th>Right-choroid-plexus</th>\n",
              "      <th>Right-Hippocampus</th>\n",
              "      <th>Right-Inf-Lat-Vent</th>\n",
              "      <th>Right-Lateral-Ventricle</th>\n",
              "      <th>Right-Pallidum</th>\n",
              "      <th>Right-Putamen</th>\n",
              "      <th>Right-Thalamus-Proper</th>\n",
              "      <th>Right-VentralDC</th>\n",
              "      <th>WM-hypointensities</th>\n",
              "    </tr>\n",
              "  </thead>\n",
              "  <tbody>\n",
              "    <tr>\n",
              "      <th>952</th>\n",
              "      <td>6001</td>\n",
              "      <td>ADNI3</td>\n",
              "      <td>CN</td>\n",
              "      <td>1.0</td>\n",
              "      <td>72.0</td>\n",
              "      <td>16.0</td>\n",
              "      <td>29</td>\n",
              "      <td>3.0</td>\n",
              "      <td>1209905</td>\n",
              "      <td>1853.9</td>\n",
              "      <td>...</td>\n",
              "      <td>174640.5</td>\n",
              "      <td>662.7</td>\n",
              "      <td>3090.1</td>\n",
              "      <td>370.1</td>\n",
              "      <td>15634.7</td>\n",
              "      <td>1550.9</td>\n",
              "      <td>3758.7</td>\n",
              "      <td>5037.0</td>\n",
              "      <td>3101.0</td>\n",
              "      <td>1853.1</td>\n",
              "    </tr>\n",
              "    <tr>\n",
              "      <th>953</th>\n",
              "      <td>6002</td>\n",
              "      <td>ADNI3</td>\n",
              "      <td>MCI</td>\n",
              "      <td>0.0</td>\n",
              "      <td>72.0</td>\n",
              "      <td>16.0</td>\n",
              "      <td>30</td>\n",
              "      <td>3.0</td>\n",
              "      <td>1393639</td>\n",
              "      <td>1181.7</td>\n",
              "      <td>...</td>\n",
              "      <td>194609.9</td>\n",
              "      <td>930.7</td>\n",
              "      <td>4328.4</td>\n",
              "      <td>342.2</td>\n",
              "      <td>9956.4</td>\n",
              "      <td>1823.5</td>\n",
              "      <td>4207.2</td>\n",
              "      <td>5366.7</td>\n",
              "      <td>3885.1</td>\n",
              "      <td>1281.2</td>\n",
              "    </tr>\n",
              "    <tr>\n",
              "      <th>954</th>\n",
              "      <td>6005</td>\n",
              "      <td>ADNI3</td>\n",
              "      <td>CN</td>\n",
              "      <td>1.0</td>\n",
              "      <td>67.0</td>\n",
              "      <td>16.0</td>\n",
              "      <td>29</td>\n",
              "      <td>3.0</td>\n",
              "      <td>1520953</td>\n",
              "      <td>1479.5</td>\n",
              "      <td>...</td>\n",
              "      <td>244781.9</td>\n",
              "      <td>713.6</td>\n",
              "      <td>4248.9</td>\n",
              "      <td>466.9</td>\n",
              "      <td>9851.1</td>\n",
              "      <td>1888.4</td>\n",
              "      <td>3251.3</td>\n",
              "      <td>6562.4</td>\n",
              "      <td>4037.2</td>\n",
              "      <td>3462.0</td>\n",
              "    </tr>\n",
              "    <tr>\n",
              "      <th>955</th>\n",
              "      <td>6007</td>\n",
              "      <td>ADNI3</td>\n",
              "      <td>CN</td>\n",
              "      <td>1.0</td>\n",
              "      <td>77.0</td>\n",
              "      <td>13.0</td>\n",
              "      <td>29</td>\n",
              "      <td>3.0</td>\n",
              "      <td>1462717</td>\n",
              "      <td>1623.8</td>\n",
              "      <td>...</td>\n",
              "      <td>232120.8</td>\n",
              "      <td>975.2</td>\n",
              "      <td>3908.6</td>\n",
              "      <td>303.4</td>\n",
              "      <td>10426.1</td>\n",
              "      <td>2011.4</td>\n",
              "      <td>4292.4</td>\n",
              "      <td>7167.4</td>\n",
              "      <td>3831.5</td>\n",
              "      <td>4764.6</td>\n",
              "    </tr>\n",
              "    <tr>\n",
              "      <th>956</th>\n",
              "      <td>6008</td>\n",
              "      <td>ADNI3</td>\n",
              "      <td>CN</td>\n",
              "      <td>1.0</td>\n",
              "      <td>63.0</td>\n",
              "      <td>16.0</td>\n",
              "      <td>29</td>\n",
              "      <td>3.0</td>\n",
              "      <td>1388685</td>\n",
              "      <td>1031.5</td>\n",
              "      <td>...</td>\n",
              "      <td>196437.7</td>\n",
              "      <td>942.3</td>\n",
              "      <td>3934.3</td>\n",
              "      <td>404.4</td>\n",
              "      <td>11055.9</td>\n",
              "      <td>1880.0</td>\n",
              "      <td>4231.6</td>\n",
              "      <td>6680.5</td>\n",
              "      <td>4217.9</td>\n",
              "      <td>13050.0</td>\n",
              "    </tr>\n",
              "  </tbody>\n",
              "</table>\n",
              "<p>5 rows × 109 columns</p>\n",
              "</div>\n",
              "    <div class=\"colab-df-buttons\">\n",
              "\n",
              "  <div class=\"colab-df-container\">\n",
              "    <button class=\"colab-df-convert\" onclick=\"convertToInteractive('df-19c6e49b-bf03-4f0a-8545-c1ca4cdf21b2')\"\n",
              "            title=\"Convert this dataframe to an interactive table.\"\n",
              "            style=\"display:none;\">\n",
              "\n",
              "  <svg xmlns=\"http://www.w3.org/2000/svg\" height=\"24px\" viewBox=\"0 -960 960 960\">\n",
              "    <path d=\"M120-120v-720h720v720H120Zm60-500h600v-160H180v160Zm220 220h160v-160H400v160Zm0 220h160v-160H400v160ZM180-400h160v-160H180v160Zm440 0h160v-160H620v160ZM180-180h160v-160H180v160Zm440 0h160v-160H620v160Z\"/>\n",
              "  </svg>\n",
              "    </button>\n",
              "\n",
              "  <style>\n",
              "    .colab-df-container {\n",
              "      display:flex;\n",
              "      gap: 12px;\n",
              "    }\n",
              "\n",
              "    .colab-df-convert {\n",
              "      background-color: #E8F0FE;\n",
              "      border: none;\n",
              "      border-radius: 50%;\n",
              "      cursor: pointer;\n",
              "      display: none;\n",
              "      fill: #1967D2;\n",
              "      height: 32px;\n",
              "      padding: 0 0 0 0;\n",
              "      width: 32px;\n",
              "    }\n",
              "\n",
              "    .colab-df-convert:hover {\n",
              "      background-color: #E2EBFA;\n",
              "      box-shadow: 0px 1px 2px rgba(60, 64, 67, 0.3), 0px 1px 3px 1px rgba(60, 64, 67, 0.15);\n",
              "      fill: #174EA6;\n",
              "    }\n",
              "\n",
              "    .colab-df-buttons div {\n",
              "      margin-bottom: 4px;\n",
              "    }\n",
              "\n",
              "    [theme=dark] .colab-df-convert {\n",
              "      background-color: #3B4455;\n",
              "      fill: #D2E3FC;\n",
              "    }\n",
              "\n",
              "    [theme=dark] .colab-df-convert:hover {\n",
              "      background-color: #434B5C;\n",
              "      box-shadow: 0px 1px 3px 1px rgba(0, 0, 0, 0.15);\n",
              "      filter: drop-shadow(0px 1px 2px rgba(0, 0, 0, 0.3));\n",
              "      fill: #FFFFFF;\n",
              "    }\n",
              "  </style>\n",
              "\n",
              "    <script>\n",
              "      const buttonEl =\n",
              "        document.querySelector('#df-19c6e49b-bf03-4f0a-8545-c1ca4cdf21b2 button.colab-df-convert');\n",
              "      buttonEl.style.display =\n",
              "        google.colab.kernel.accessAllowed ? 'block' : 'none';\n",
              "\n",
              "      async function convertToInteractive(key) {\n",
              "        const element = document.querySelector('#df-19c6e49b-bf03-4f0a-8545-c1ca4cdf21b2');\n",
              "        const dataTable =\n",
              "          await google.colab.kernel.invokeFunction('convertToInteractive',\n",
              "                                                    [key], {});\n",
              "        if (!dataTable) return;\n",
              "\n",
              "        const docLinkHtml = 'Like what you see? Visit the ' +\n",
              "          '<a target=\"_blank\" href=https://colab.research.google.com/notebooks/data_table.ipynb>data table notebook</a>'\n",
              "          + ' to learn more about interactive tables.';\n",
              "        element.innerHTML = '';\n",
              "        dataTable['output_type'] = 'display_data';\n",
              "        await google.colab.output.renderOutput(dataTable, element);\n",
              "        const docLink = document.createElement('div');\n",
              "        docLink.innerHTML = docLinkHtml;\n",
              "        element.appendChild(docLink);\n",
              "      }\n",
              "    </script>\n",
              "  </div>\n",
              "\n",
              "\n",
              "<div id=\"df-9ddde025-6bca-4f76-870d-ce6f49132b9e\">\n",
              "  <button class=\"colab-df-quickchart\" onclick=\"quickchart('df-9ddde025-6bca-4f76-870d-ce6f49132b9e')\"\n",
              "            title=\"Suggest charts.\"\n",
              "            style=\"display:none;\">\n",
              "\n",
              "<svg xmlns=\"http://www.w3.org/2000/svg\" height=\"24px\"viewBox=\"0 0 24 24\"\n",
              "     width=\"24px\">\n",
              "    <g>\n",
              "        <path d=\"M19 3H5c-1.1 0-2 .9-2 2v14c0 1.1.9 2 2 2h14c1.1 0 2-.9 2-2V5c0-1.1-.9-2-2-2zM9 17H7v-7h2v7zm4 0h-2V7h2v10zm4 0h-2v-4h2v4z\"/>\n",
              "    </g>\n",
              "</svg>\n",
              "  </button>\n",
              "\n",
              "<style>\n",
              "  .colab-df-quickchart {\n",
              "      --bg-color: #E8F0FE;\n",
              "      --fill-color: #1967D2;\n",
              "      --hover-bg-color: #E2EBFA;\n",
              "      --hover-fill-color: #174EA6;\n",
              "      --disabled-fill-color: #AAA;\n",
              "      --disabled-bg-color: #DDD;\n",
              "  }\n",
              "\n",
              "  [theme=dark] .colab-df-quickchart {\n",
              "      --bg-color: #3B4455;\n",
              "      --fill-color: #D2E3FC;\n",
              "      --hover-bg-color: #434B5C;\n",
              "      --hover-fill-color: #FFFFFF;\n",
              "      --disabled-bg-color: #3B4455;\n",
              "      --disabled-fill-color: #666;\n",
              "  }\n",
              "\n",
              "  .colab-df-quickchart {\n",
              "    background-color: var(--bg-color);\n",
              "    border: none;\n",
              "    border-radius: 50%;\n",
              "    cursor: pointer;\n",
              "    display: none;\n",
              "    fill: var(--fill-color);\n",
              "    height: 32px;\n",
              "    padding: 0;\n",
              "    width: 32px;\n",
              "  }\n",
              "\n",
              "  .colab-df-quickchart:hover {\n",
              "    background-color: var(--hover-bg-color);\n",
              "    box-shadow: 0 1px 2px rgba(60, 64, 67, 0.3), 0 1px 3px 1px rgba(60, 64, 67, 0.15);\n",
              "    fill: var(--button-hover-fill-color);\n",
              "  }\n",
              "\n",
              "  .colab-df-quickchart-complete:disabled,\n",
              "  .colab-df-quickchart-complete:disabled:hover {\n",
              "    background-color: var(--disabled-bg-color);\n",
              "    fill: var(--disabled-fill-color);\n",
              "    box-shadow: none;\n",
              "  }\n",
              "\n",
              "  .colab-df-spinner {\n",
              "    border: 2px solid var(--fill-color);\n",
              "    border-color: transparent;\n",
              "    border-bottom-color: var(--fill-color);\n",
              "    animation:\n",
              "      spin 1s steps(1) infinite;\n",
              "  }\n",
              "\n",
              "  @keyframes spin {\n",
              "    0% {\n",
              "      border-color: transparent;\n",
              "      border-bottom-color: var(--fill-color);\n",
              "      border-left-color: var(--fill-color);\n",
              "    }\n",
              "    20% {\n",
              "      border-color: transparent;\n",
              "      border-left-color: var(--fill-color);\n",
              "      border-top-color: var(--fill-color);\n",
              "    }\n",
              "    30% {\n",
              "      border-color: transparent;\n",
              "      border-left-color: var(--fill-color);\n",
              "      border-top-color: var(--fill-color);\n",
              "      border-right-color: var(--fill-color);\n",
              "    }\n",
              "    40% {\n",
              "      border-color: transparent;\n",
              "      border-right-color: var(--fill-color);\n",
              "      border-top-color: var(--fill-color);\n",
              "    }\n",
              "    60% {\n",
              "      border-color: transparent;\n",
              "      border-right-color: var(--fill-color);\n",
              "    }\n",
              "    80% {\n",
              "      border-color: transparent;\n",
              "      border-right-color: var(--fill-color);\n",
              "      border-bottom-color: var(--fill-color);\n",
              "    }\n",
              "    90% {\n",
              "      border-color: transparent;\n",
              "      border-bottom-color: var(--fill-color);\n",
              "    }\n",
              "  }\n",
              "</style>\n",
              "\n",
              "  <script>\n",
              "    async function quickchart(key) {\n",
              "      const quickchartButtonEl =\n",
              "        document.querySelector('#' + key + ' button');\n",
              "      quickchartButtonEl.disabled = true;  // To prevent multiple clicks.\n",
              "      quickchartButtonEl.classList.add('colab-df-spinner');\n",
              "      try {\n",
              "        const charts = await google.colab.kernel.invokeFunction(\n",
              "            'suggestCharts', [key], {});\n",
              "      } catch (error) {\n",
              "        console.error('Error during call to suggestCharts:', error);\n",
              "      }\n",
              "      quickchartButtonEl.classList.remove('colab-df-spinner');\n",
              "      quickchartButtonEl.classList.add('colab-df-quickchart-complete');\n",
              "    }\n",
              "    (() => {\n",
              "      let quickchartButtonEl =\n",
              "        document.querySelector('#df-9ddde025-6bca-4f76-870d-ce6f49132b9e button');\n",
              "      quickchartButtonEl.style.display =\n",
              "        google.colab.kernel.accessAllowed ? 'block' : 'none';\n",
              "    })();\n",
              "  </script>\n",
              "</div>\n",
              "    </div>\n",
              "  </div>\n"
            ]
          },
          "metadata": {},
          "execution_count": 9
        }
      ],
      "source": [
        "print('number of data samples:', len(df))\n",
        "df.head()"
      ]
    },
    {
      "cell_type": "markdown",
      "metadata": {
        "id": "eRJ6w4Han3Cz"
      },
      "source": [
        "# Import onto, use parent-child relationships to find parent ROI volumes"
      ]
    },
    {
      "cell_type": "code",
      "execution_count": 14,
      "metadata": {
        "id": "EB8rB7EXmjiR"
      },
      "outputs": [],
      "source": [
        "#Get the OWL/Protege ontology which encodes neuroanatomical structral information\n",
        "onto = get_ontology(\"/content/drive/My Drive/ontology/tree-structure-brain-anatomy-FastSurfer-v2.rdf\").load()\n",
        "\n",
        "\n",
        "# Create an empty tree,\n",
        "# to later represent the parent-child relationships amongst ROIs and easily traverse amongst them\n",
        "root = Node(\"root\", ontoClass=onto.Brain_Region)\n",
        "\n",
        "\n",
        "#For pretty printing of the entitiy names\n",
        "def render_using_label(entity):\n",
        "    return entity.label.first() or entity.name\n",
        "set_render_func(render_using_label)"
      ]
    },
    {
      "cell_type": "markdown",
      "metadata": {
        "id": "GzaPdMok9b7F"
      },
      "source": [
        "##preprocess"
      ]
    },
    {
      "cell_type": "code",
      "execution_count": 15,
      "metadata": {
        "id": "oD0YeofZz9WG"
      },
      "outputs": [],
      "source": [
        "def parents_pair_func():\n",
        "  #Find the pairs of parent-child relationships\n",
        "\n",
        "  # query all parent classes with root class Brain_Region in ontology\n",
        "  # request only direct children, not grand(grand)children pairs\n",
        "  parents_pairs = list(default_world.sparql(\"\"\"\n",
        "  SELECT ?toplevel ?leaf\n",
        "      WHERE {\n",
        "          ?leaf rdfs:subClassOf ?toplevel;\n",
        "                rdfs:subClassOf* tree-structure-brain-anatomy-FastSurfer-v2:Brain_Region.\n",
        "  }\n",
        "  \"\"\")) # prefixes are automatically defined, tree-structure-brain-anatomy-FastSurfer: is the currently loaded ontology\n",
        "\n",
        "  print('parents_pairs')\n",
        "  print(len(parents_pairs), parents_pairs)\n",
        "  return parents_pairs\n"
      ]
    },
    {
      "cell_type": "code",
      "execution_count": 16,
      "metadata": {
        "id": "SnyxYoof0Bga"
      },
      "outputs": [],
      "source": [
        "def add_children_to_tree(root):\n",
        "  parents = list()\n",
        "  class_map = dict()\n",
        "  parents_pairs = parents_pair_func()\n",
        "\n",
        "  # first: add children and parents to the map\n",
        "  for pp in parents_pairs:\n",
        "    if pp[0] not in class_map:\n",
        "      class_map[pp[0]] = [pp[1]] # add new list with child as first entry\n",
        "    else:\n",
        "      class_map[pp[0]].append(pp[1]) # add child class to existing list in map\n",
        "    if pp[0] not in parents: parents.append(pp[0])\n",
        "\n",
        "  # second: recursively add children and parents to the tree\n",
        "  def add_children(p, vals):\n",
        "    for v in vals:\n",
        "      pp = AnyNode(parent=p, ontoClass=v) # create child nodes for each value\n",
        "      add_children(pp, class_map.get(v, [])) # recursively process children\n",
        "\n",
        "  add_children(root, class_map[onto.Brain_Region])\n",
        "  print('parents')\n",
        "  print(len(parents), parents)\n",
        "\n",
        "  return root, parents_pairs, parents"
      ]
    },
    {
      "cell_type": "code",
      "execution_count": 17,
      "metadata": {
        "colab": {
          "base_uri": "https://localhost:8080/",
          "height": 0
        },
        "id": "yGzC0koG2m6M",
        "outputId": "6fc6b8c3-5d0b-4a18-b3b4-75155b70887c"
      },
      "outputs": [
        {
          "output_type": "stream",
          "name": "stdout",
          "text": [
            "parents_pairs\n",
            "123 [[Corpus_Callosum, Anterior], [White_Matter, Corpus_Callosum], [Brain_Region, Brainstem], [Cerebrospinal_Fluid, CSF], [Brain_Region, Cerebrospinal_Fluid], [Corpus_Callosum, Central], [Brain_Region, Cerebellum], [Brain_Region, Cerebrum], [Cerebrum, White_Matter], [Left_Temporal_Lobe, Left_Amygdala], [Left_Cerebrum, Left_Temporal_Lobe], [Left_Cerebrum, Left_Basal_Ganglia], [Cerebrum, Left_Cerebrum], [Left_Cingulate_Gyrus, Left_Caudal_Anterior], [Left_Cerebrum, Left_Cingulate_Gyrus], [Left_Frontal_Lobe, Left_Caudal_Middle_Frontal], [Left_Cerebrum, Left_Frontal_Lobe], [Left_Basal_Ganglia, Left_Caudate_Nucleus], [Cerebellum, Left_Cerebellum], [Cerebellum, Right_Cerebellum], [Left_Cerebellum, Left_Cerebellum_Cortex], [Left_Cerebellum, Left_Cerebellum_White_Matter], [White_Matter, Left_Cerebral_White_Matter], [Cerebrospinal_Fluid, Left_Choroid_Plexus], [Left_Occipital_Lobe, Left_Cuneus], [Left_Cerebrum, Left_Occipital_Lobe], [Left_Cerebrum, Left_Diencephalon], [Left_Temporal_Lobe, Left_Entorhinal], [Left_Temporal_Lobe, Left_Fusiform], [Left_Temporal_Lobe, Left_Hippocampus], [Cerebrospinal_Fluid, Left_Inf-Lat-Vent], [Left_Parietal_Lobe, Left_Inferior_Parietal], [Left_Cerebrum, Left_Parietal_Lobe], [Left_Temporal_Lobe, Left_Inferior_Temporal], [Left_Cerebrum, Left_Insula], [Left_Cingulate_Gyrus, Left_Isthmus], [Left_Occipital_Lobe, Left_Lateral_Occipital], [Left_Frontal_Lobe, Left_Lateral_Orbitofrontal], [Cerebrospinal_Fluid, Left_Lateral_Ventricle], [Left_Occipital_Lobe, Left_Lingual], [Left_Frontal_Lobe, Left_Medial_Orbitofrontal], [Left_Temporal_Lobe, Left_Middle_Temporal], [Left_Basal_Ganglia, Left_Nucleus_Accumbens], [Left_Basal_Ganglia, Left_Pallidum], [Left_Frontal_Lobe, Left_Paracentral], [Left_Temporal_Lobe, Left_Parahippocampal], [Left_Frontal_Lobe, Left_Pars_Opercularis], [Left_Frontal_Lobe, Left_Pars_Orbitalis], [Left_Frontal_Lobe, Left_Pars_Triangularis], [Left_Occipital_Lobe, Left_Pericalcarine], [Left_Parietal_Lobe, Left_Postcentral], [Left_Cingulate_Gyrus, Left_Posterior], [Left_Frontal_Lobe, Left_Precentral], [Left_Parietal_Lobe, Left_Precuneus], [Left_Basal_Ganglia, Left_Putamen], [Left_Cingulate_Gyrus, Left_Rostral_Anterior], [Left_Frontal_Lobe, Left_Rostral_Middle_Frontal], [Left_Frontal_Lobe, Left_Superior_Frontal], [Left_Parietal_Lobe, Left_Superior_Parietal], [Left_Temporal_Lobe, Left_Superior_Temporal], [Left_Parietal_Lobe, Left_Supramarginal], [Left_Diencephalon, Left_Thalamus], [Left_Diencephalon, Left_Ventral_Diencephalon], [Left_Temporal_Lobe, Left_Transverse_Temporal], [Corpus_Callosum, Mid_Anterior], [Corpus_Callosum, Mid_Posterior], [Corpus_Callosum, Posterior], [Right_Temporal_Lobe, Right_Amygdala], [Right_Cerebrum, Right_Temporal_Lobe], [Right_Cerebrum, Right_Basal_Ganglia], [Cerebrum, Right_Cerebrum], [Right_Cingulate_Gyrus, Right_Caudal_Anterior], [Right_Cerebrum, Right_Cingulate_Gyrus], [Right_Frontal_Lobe, Right_Caudal_Middle_Frontal], [Right_Cerebrum, Right_Frontal_Lobe], [Right_Basal_Ganglia, Right_Caudate_Nucleus], [Right_Cerebellum, Right_Cerebellum_Cortex], [Right_Cerebellum, Right_Cerebellum_White_Matter], [White_Matter, Right_Cerebral_White_Matter], [Cerebrospinal_Fluid, Right_Choroid_Plexus], [Right_Occipital_Lobe, Right_Cuneus], [Right_Cerebrum, Right_Occipital_Lobe], [Right_Cerebrum, Right_Diencephalon], [Right_Temporal_Lobe, Right_Entorhinal], [Right_Temporal_Lobe, Right_Fusiform], [Right_Temporal_Lobe, Right_Hippocampus], [Cerebrospinal_Fluid, Right_Inf-Lat-Vent], [Right_Parietal_Lobe, Right_Inferior_Parietal], [Right_Cerebrum, Right_Parietal_Lobe], [Right_Temporal_Lobe, Right_Inferior_Temporal], [Right_Cerebrum, Right_Insula], [Right_Cingulate_Gyrus, Right_Isthmus], [Right_Occipital_Lobe, Right_Lateral_Occipital], [Right_Frontal_Lobe, Right_Lateral_Orbitofrontal], [Cerebrospinal_Fluid, Right_Lateral_Ventricle], [Right_Occipital_Lobe, Right_Lingual], [Right_Frontal_Lobe, Right_Medial_Orbitofrontal], [Right_Temporal_Lobe, Right_Middle_Temporal], [Right_Basal_Ganglia, Right_Nucleus_Accumbens], [Right_Basal_Ganglia, Right_Pallidum], [Right_Frontal_Lobe, Right_Paracentral], [Right_Temporal_Lobe, Right_Parahippocampal], [Right_Frontal_Lobe, Right_Pars_Opercularis], [Right_Frontal_Lobe, Right_Pars_Orbitalis], [Right_Frontal_Lobe, Right_Pars_Triangularis], [Right_Occipital_Lobe, Right_Pericalcarine], [Right_Parietal_Lobe, Right_Postcentral], [Right_Cingulate_Gyrus, Right_Posterior], [Right_Frontal_Lobe, Right_Precentral], [Right_Parietal_Lobe, Right_Precuneus], [Right_Basal_Ganglia, Right_Putamen], [Right_Cingulate_Gyrus, Right_Rostral_Anterior], [Right_Frontal_Lobe, Right_Rostral_Middle_Frontal], [Right_Frontal_Lobe, Right_Superior_Frontal], [Right_Parietal_Lobe, Right_Superior_Parietal], [Right_Temporal_Lobe, Right_Superior_Temporal], [Right_Parietal_Lobe, Right_Supramarginal], [Right_Diencephalon, Right_Thalamus], [Right_Diencephalon, Right_Ventral_Diencephalon], [Right_Temporal_Lobe, Right_Transverse_Temporal], [White_Matter, WM_Hypointensities], [Cerebrospinal_Fluid, 3rd-Ventricle], [Cerebrospinal_Fluid, 4th-Ventricle]]\n",
            "parents\n",
            "24 [Corpus_Callosum, White_Matter, Brain_Region, Cerebrospinal_Fluid, Cerebrum, Left_Temporal_Lobe, Left_Cerebrum, Left_Cingulate_Gyrus, Left_Frontal_Lobe, Left_Basal_Ganglia, Cerebellum, Left_Cerebellum, Left_Occipital_Lobe, Left_Parietal_Lobe, Left_Diencephalon, Right_Temporal_Lobe, Right_Cerebrum, Right_Cingulate_Gyrus, Right_Frontal_Lobe, Right_Basal_Ganglia, Right_Cerebellum, Right_Occipital_Lobe, Right_Parietal_Lobe, Right_Diencephalon]\n"
          ]
        }
      ],
      "source": [
        "root, _, parents = add_children_to_tree(root)"
      ]
    },
    {
      "cell_type": "code",
      "execution_count": 18,
      "metadata": {
        "id": "AE0nufPszs9l"
      },
      "outputs": [],
      "source": [
        "#print(RenderTree(root).by_attr('ontoClass'))"
      ]
    },
    {
      "cell_type": "code",
      "execution_count": 19,
      "metadata": {
        "id": "KgT7XUq239Cp"
      },
      "outputs": [],
      "source": [
        "def child_leaf_names(onto):\n",
        "  #Find the names of all the chilren/leaf nodes\n",
        "  children_name, children_id = [], []\n",
        "  for region in onto.Brain_Region.descendants(include_self=False):\n",
        "      with onto:\n",
        "        if len(region.descendants(include_self=False))==0:  # leaf node\n",
        "          assert region.ID, f\"region ID not set for {region}\"\n",
        "          #children.append(str(region.name))\n",
        "          children_name.append(str(region.name))\n",
        "          children_id.append(region.ID[0])\n",
        "\n",
        "  return children_name, children_id\n",
        "\n",
        "\n",
        "children_name, children_id = child_leaf_names(onto)\n",
        "children_dict_id_to_name = dict(zip(children_id, children_name))\n",
        "#children_dict_name_to_id = dict(zip(children_name, children_id))"
      ]
    },
    {
      "cell_type": "code",
      "execution_count": null,
      "metadata": {
        "id": "PG_qWdf_zEEb"
      },
      "outputs": [],
      "source": [
        "def find_parent_volume(df, parents, root):\n",
        "  '''\n",
        "  Additively finds true/ground_truth volumetric measurements for all parent ROIs\n",
        "\n",
        "  df: dataframe with children ROI volumes. The ROI names are still 'id' format.\n",
        "  parents: str list, a list of all the parent ROI names.\n",
        "  root: anytree root node, represnting the whole ontology as a tree.\n",
        "  '''\n",
        "  for parent in parents:\n",
        "    vol=0\n",
        "    #finds all the leaf children (or child-ROI) for any give parent node\n",
        "    relevant_leaf_children = search.find(root, lambda node: node.ontoClass.name == str(parent)).leaves\n",
        "    for ele in relevant_leaf_children:\n",
        "      vol += df[str(ele.ontoClass.ID[0])]\n",
        "\n",
        "    df[str(parent)] = vol\n",
        "  return df\n",
        "\n",
        "df = find_parent_volume(df, parents, root)"
      ]
    },
    {
      "cell_type": "code",
      "execution_count": 21,
      "metadata": {
        "colab": {
          "base_uri": "https://localhost:8080/",
          "height": 0
        },
        "id": "qeR-3phur-vH",
        "outputId": "433cb8d6-1d14-44d8-8c37-f1bb28363fb6"
      },
      "outputs": [
        {
          "output_type": "stream",
          "name": "stderr",
          "text": [
            "<ipython-input-21-ac53b3731486>:2: SettingWithCopyWarning: \n",
            "A value is trying to be set on a copy of a slice from a DataFrame\n",
            "\n",
            "See the caveats in the documentation: https://pandas.pydata.org/pandas-docs/stable/user_guide/indexing.html#returning-a-view-versus-a-copy\n",
            "  df.rename(columns=children_dict_id_to_name, inplace=True)\n"
          ]
        }
      ],
      "source": [
        "#Renaming children ROI columns in the dataframe (from id -> readable name)\n",
        "df.rename(columns=children_dict_id_to_name, inplace=True)"
      ]
    },
    {
      "cell_type": "markdown",
      "metadata": {
        "id": "kDK4ls8PmkO1"
      },
      "source": [
        "# Import Learned LR models"
      ]
    },
    {
      "cell_type": "code",
      "source": [
        "#Read a dictionary contianing the model coeficents and intercepts for all ROIs.\n",
        "#This dict also contains std deviation of the control sample's residuals,\n",
        "#for easy calculation of the w-score\n",
        "\n",
        "with open('/content/drive/My Drive/ontology/ROI_model_dict.pkl', 'rb') as f:\n",
        "    ROI_model_dict = pickle.load(f)\n",
        "\n",
        "#for example, the LR model for 'Right_Hippocampus' is:\n",
        "ROI_model_dict['Right_Hippocampus']"
      ],
      "metadata": {
        "colab": {
          "base_uri": "https://localhost:8080/",
          "height": 0
        },
        "id": "bcBdgOF4wQuK",
        "outputId": "bee737c9-13b3-45c9-dbad-a6304f317559"
      },
      "execution_count": 24,
      "outputs": [
        {
          "output_type": "execute_result",
          "data": {
            "text/plain": [
              "{'model_coef': array([-6.26111814e+01, -2.62544904e+01,  1.53730465e+01,  1.08188636e-03]),\n",
              " 'model_intercept': 4172.174640130828,\n",
              " 'std_residual': 350.10038014610996}"
            ]
          },
          "metadata": {},
          "execution_count": 24
        }
      ]
    },
    {
      "cell_type": "markdown",
      "metadata": {
        "id": "c0zREgBFmfgN"
      },
      "source": [
        "# Find w-scores"
      ]
    },
    {
      "cell_type": "code",
      "execution_count": 25,
      "metadata": {
        "id": "7gvZM89amrVs"
      },
      "outputs": [],
      "source": [
        "def calc_w_batch(col_measured_vol=0.0, col_covariate_values=None, ROI=None, ROI_model_dict=None):\n",
        "  '''\n",
        "  A function to calculate w-scores for any ROI, for a given sample.\n",
        "\n",
        "  col_measured_vol:   the measured/ground_truth ROI volumes for a given region,\n",
        "  col_covariate_values: (array) list of covariate information assocaited with a given sample,\n",
        "                      used for predicting expected ROI vol levels\n",
        "  ROI: (str) name of the ROI,\n",
        "  ROI_model_dict: (dict) a object containing all the learned LR models with\n",
        "                  thier coefficients, intercept. Also contain the\n",
        "                  std. dev. of the control sample's residuals.\n",
        "\n",
        "  '''\n",
        "  #Empty model instance\n",
        "  model = LinearRegression()\n",
        "  #setting trained weights (model's coef and intercept)\n",
        "  model.coef_ = ROI_model_dict[ROI]['model_coef']\n",
        "  model.intercept_ = ROI_model_dict[ROI]['model_intercept']\n",
        "  std_dev = ROI_model_dict[ROI]['std_residual']\n",
        "\n",
        "  sample_x = np.array(col_covariate_values)\n",
        "\n",
        "  w = (col_measured_vol - model.predict(sample_x)) / std_dev\n",
        "\n",
        "  return w"
      ]
    },
    {
      "cell_type": "code",
      "execution_count": 26,
      "metadata": {
        "id": "u9cjtwxM1Bij"
      },
      "outputs": [],
      "source": [
        "list_ROIs = children_name + parents"
      ]
    },
    {
      "cell_type": "code",
      "execution_count": 27,
      "metadata": {
        "id": "citiw3LU1MtX"
      },
      "outputs": [],
      "source": [
        "#a new dataframe for storing w-scores\n",
        "df_w = df.copy(deep=True)"
      ]
    },
    {
      "cell_type": "code",
      "execution_count": 28,
      "metadata": {
        "id": "hhMmsS0-xLP8"
      },
      "outputs": [],
      "source": [
        "#Find the w-score for the ROIs\n",
        "for ROI in list_ROIs:\n",
        "  ROI = str(ROI)\n",
        "  df_w[ROI] = calc_w_batch(col_measured_vol= df[ROI].values,\n",
        "                                col_covariate_values = df[['sex1f','age','MRI_field_strength','eTIV']].values,\n",
        "                                ROI=ROI,\n",
        "                                ROI_model_dict=ROI_model_dict\n",
        "                                )"
      ]
    },
    {
      "cell_type": "markdown",
      "metadata": {
        "id": "VJPESphgmsxK"
      },
      "source": [
        "# Plot and Save"
      ]
    },
    {
      "cell_type": "code",
      "execution_count": 29,
      "metadata": {
        "id": "Mngxl46cokL_"
      },
      "outputs": [],
      "source": [
        "# Dataframe with which scores z-scores/w-scores for an AD-sample; To be used later, as it has the parent-child relations built into it.\n",
        "# And the ROIs are manually ordered and have an associated (rign) 'level' with them,\n",
        "df_ = pd.read_csv('/content/drive/My Drive/ontology/vis_test.csv',index_col=False).fillna('')\n",
        "df_.drop(['cn_vol', df_.columns[0]], axis=1, inplace=True)  #dropping excessive columns\n",
        "df_.rename(columns={\"z\": \"w-score\"}, inplace=True)"
      ]
    },
    {
      "cell_type": "code",
      "execution_count": 30,
      "metadata": {
        "id": "DSHUGM3juhuE"
      },
      "outputs": [],
      "source": [
        "def sort_code (df):\n",
        "  #To create symertirc Left and Right cerebrum regions, we sort them based on hand-made codes.\n",
        "  #In this function, we match each region to their sorting codes.\n",
        "\n",
        "  df_temp = pd.read_csv('/content/drive/My Drive/ontology/roi_SortSymmetryCode.csv')\n",
        "  sort_dict = dict(zip(df_temp.ROI, df_temp.sort_try))\n",
        "\n",
        "  df['sort'] = 0\n",
        "  for i in df.index:\n",
        "    df.loc[i, 'sort'] = sort_dict[str(df.loc[i, 'ROI'])]\n",
        "\n",
        "  return df"
      ]
    },
    {
      "cell_type": "code",
      "execution_count": 31,
      "metadata": {
        "id": "qVNN7kKXo_XH"
      },
      "outputs": [],
      "source": [
        "#A custom colour scale\n",
        "custom_RYR = [\n",
        "    \"rgb(81,0,17)\",  #~rosewood dark red\n",
        "\n",
        "    \"rgb(165,0,38)\",  #shades of red\n",
        "    \"rgb(215,48,39)\",\n",
        "    \"rgb(244,109,67)\",\n",
        "    \"rgb(253,174,97)\",\n",
        "\n",
        "    \"rgb(254,235,181)\",  #Yellow\n",
        "    \"rgb(250,248,233)\", #lighter yellow\n",
        "    \"rgb(254,235,181)\",  #Yellow\n",
        "\n",
        "    \"rgb(253,174,97)\", #shades of red, reversed\n",
        "    \"rgb(244,109,67)\",\n",
        "    \"rgb(215,48,39)\",\n",
        "    \"rgb(165,0,38)\",\n",
        "\n",
        "    \"rgb(81,0,17)\"  #~rosewood dark red\n",
        "      ]"
      ]
    },
    {
      "cell_type": "markdown",
      "metadata": {
        "id": "E5MkDXG3SUtW"
      },
      "source": [
        "##Ex1: Plot a mean w-score plot for any disease stage"
      ]
    },
    {
      "cell_type": "code",
      "execution_count": 33,
      "metadata": {
        "id": "Rplh_sVxqabF",
        "colab": {
          "base_uri": "https://localhost:8080/",
          "height": 0
        },
        "outputId": "34c92fc4-7519-42bb-ecf2-84576b157e2a"
      },
      "outputs": [
        {
          "output_type": "stream",
          "name": "stdout",
          "text": [
            "(62, 133)\n"
          ]
        }
      ],
      "source": [
        "#collect all ROI w-scores for a disease stage and average them\n",
        "stage = 'AD'\n",
        "# cohort= 'All'\n",
        "df_stage_w = df_w[df_w['grp']==stage]\n",
        "# df_stage_w = df_w\n",
        "print(df_stage_w.shape)\n",
        "\n",
        "w_dict = df_stage_w[df_stage_w.columns[9:]].mean().to_dict()\n",
        "\n",
        "#copy the sample-df with the parent-child relations, and replace the w-scores\n",
        "df_plot = df_.copy()\n",
        "for index in df_plot.index:\n",
        "  df_plot.loc[index, 'w-score'] = w_dict[df_plot.loc[index].ROI]\n",
        "df_plot['w-score'] = df_plot['w-score'].round(2)   #round up the w-scores to get rid of the trailing digits\n",
        "\n",
        "#cleaning up the names of the ROIs\n",
        "df_plot['ROI'] = df_plot['ROI'].map(lambda x: x.replace('-',' ').replace('_',' '))\n",
        "df_plot['parent'] = df_plot['parent'].map(lambda x: x.replace('-',' ').replace('_',' '))\n",
        "\n",
        "#Add the sorting code to the dataframe and sort the w-scores based on it\n",
        "df_plot = sort_code(df_plot)\n",
        "df_plot.sort_values('sort', inplace=True)\n"
      ]
    },
    {
      "cell_type": "code",
      "execution_count": 34,
      "metadata": {
        "id": "rSWBGnVTv4z_",
        "colab": {
          "base_uri": "https://localhost:8080/",
          "height": 817
        },
        "outputId": "5d96d649-e334-4ce3-c4ce-1bece4eac7b2"
      },
      "outputs": [
        {
          "output_type": "display_data",
          "data": {
            "text/html": [
              "<html>\n",
              "<head><meta charset=\"utf-8\" /></head>\n",
              "<body>\n",
              "    <div>            <script src=\"https://cdnjs.cloudflare.com/ajax/libs/mathjax/2.7.5/MathJax.js?config=TeX-AMS-MML_SVG\"></script><script type=\"text/javascript\">if (window.MathJax && window.MathJax.Hub && window.MathJax.Hub.Config) {window.MathJax.Hub.Config({SVG: {font: \"STIX-Web\"}});}</script>                <script type=\"text/javascript\">window.PlotlyConfig = {MathJaxConfig: 'local'};</script>\n",
              "        <script charset=\"utf-8\" src=\"https://cdn.plot.ly/plotly-2.24.1.min.js\"></script>                <div id=\"486fb90c-36bf-44ee-909e-705e6abc4d01\" class=\"plotly-graph-div\" style=\"height:800px; width:800px;\"></div>            <script type=\"text/javascript\">                                    window.PLOTLYENV=window.PLOTLYENV || {};                                    if (document.getElementById(\"486fb90c-36bf-44ee-909e-705e6abc4d01\")) {                    Plotly.newPlot(                        \"486fb90c-36bf-44ee-909e-705e6abc4d01\",                        [{\"domain\":{\"x\":[0.0,1.0],\"y\":[0.0,1.0]},\"hovertemplate\":\"ROI=%{label}\\u003cbr\\u003eparent=%{parent}\\u003cbr\\u003ew-score=%{color}\\u003cextra\\u003e\\u003c\\u002fextra\\u003e\",\"labels\":[\"Right Cerebrum\",\"Left Cerebrum\",\"Left Choroid Plexus\",\"Left Inf Lat Vent\",\"Left Lateral Ventricle\",\"4th Ventricle\",\"Mid Anterior\",\"Mid Posterior\",\"Posterior\",\"Anterior\",\"Right Cerebellum Cortex\",\"Right Cerebellum White Matter\",\"Right Cerebral White Matter\",\"Right Choroid Plexus\",\"Right Inf Lat Vent\",\"Right Lateral Ventricle\",\"WM Hypointensities\",\"3rd Ventricle\",\"Left Cerebral White Matter\",\"Left Cerebellum White Matter\",\"Brain Region\",\"Right Cerebellum\",\"Left Cerebellum\",\"Corpus Callosum\",\"Brainstem\",\"CSF\",\"Cerebrospinal Fluid\",\"Central\",\"Cerebellum\",\"Cerebrum\",\"White Matter\",\"Left Cerebellum Cortex\",\"Right Insula\",\"Left Frontal Lobe\",\"Right Diencephalon\",\"Left Parietal Lobe\",\"Left Temporal Lobe\",\"Right Cingulate Gyrus\",\"Right Basal Ganglia\",\"Left Occipital Lobe\",\"Right Occipital Lobe\",\"Left Basal Ganglia\",\"Right Temporal Lobe\",\"Left Cingulate Gyrus\",\"Left Diencephalon\",\"Right Parietal Lobe\",\"Left Insula\",\"Right Frontal Lobe\",\"Right Superior Frontal\",\"Left Caudal Middle Frontal\",\"Left Lateral Orbitofrontal\",\"Right Rostral Middle Frontal\",\"Right Precentral\",\"Left Medial Orbitofrontal\",\"Right Pars Triangularis\",\"Left Paracentral\",\"Left Pars Opercularis\",\"Right Pars Orbitalis\",\"Left Pars Orbitalis\",\"Right Pars Opercularis\",\"Left Pars Triangularis\",\"Right Paracentral\",\"Left Precentral\",\"Right Medial Orbitofrontal\",\"Left Rostral Middle Frontal\",\"Right Lateral Orbitofrontal\",\"Right Caudal Middle Frontal\",\"Left Superior Frontal\",\"Right Supramarginal\",\"Left Inferior Parietal\",\"Left Postcentral\",\"Right Superior Parietal\",\"Right Precuneus\",\"Left Precuneus\",\"Right Postcentral\",\"Left Superior Parietal\",\"Left Supramarginal\",\"Right Inferior Parietal\",\"Right Transverse Temporal\",\"Left Amygdala\",\"Right Superior Temporal\",\"Left Entorhinal\",\"Right Parahippocampal\",\"Left Fusiform\",\"Left Hippocampus\",\"Right Middle Temporal\",\"Right Inferior Temporal\",\"Left Inferior Temporal\",\"Right Hippocampus\",\"Left Middle Temporal\",\"Right Fusiform\",\"Left Parahippocampal\",\"Right Entorhinal\",\"Left Superior Temporal\",\"Right Amygdala\",\"Left Transverse Temporal\",\"Right Pericalcarine\",\"Left Cuneus\",\"Right Lingual\",\"Left Lateral Occipital\",\"Left Lingual\",\"Right Lateral Occipital\",\"Right Cuneus\",\"Left Pericalcarine\",\"Left Caudate Nucleus\",\"Right Putamen\",\"Left Nucleus Accumbens\",\"Right Pallidum\",\"Right Nucleus Accumbens\",\"Left Pallidum\",\"Right Caudate Nucleus\",\"Left Putamen\",\"Left Caudal Anterior\",\"Right Rostral Anterior\",\"Left Isthmus\",\"Right Posterior\",\"Right Isthmus\",\"Left Posterior\",\"Left Rostral Anterior\",\"Right Caudal Anterior\",\"Right Ventral Diencephalon\",\"Left Thalamus\",\"Right Thalamus\",\"Left Ventral Diencephalon\"],\"marker\":{\"coloraxis\":\"coloraxis\",\"colors\":[-0.92,-1.12,0.28,2.19,0.98,0.15,-0.25,-0.29,-0.27,-0.05,-0.12,-0.36,-0.94,0.44,2.11,0.85,0.4,0.65,-1.0,-0.4,-1.0,-0.21,-0.2,-0.35,-0.29,0.57,1.02,-0.37,-0.21,-1.3,-0.93,-0.09,-0.61,-0.57,-0.71,-0.71,-1.81,-0.58,-0.43,-0.64,-0.47,-0.46,-1.45,-0.75,-0.74,-0.62,-0.68,-0.49,-0.4,-0.48,-0.67,-0.51,-0.07,-0.55,-0.38,-0.01,-0.36,-0.44,-0.65,-0.24,-0.4,-0.17,-0.28,-0.34,-0.46,-0.55,-0.25,-0.32,-0.46,-0.7,-0.27,-0.29,-0.68,-0.64,-0.17,-0.38,-0.53,-0.63,-0.22,-2.14,-0.57,-2.23,-0.82,-1.02,-2.3,-1.17,-1.11,-1.35,-1.89,-1.2,-0.79,-1.09,-1.74,-0.91,-1.93,-0.33,-0.02,-0.29,-0.28,-0.77,-0.42,-0.66,-0.16,-0.01,-0.15,-0.45,-0.78,-0.23,-0.9,-0.39,-0.16,-0.46,-0.35,-0.35,-0.86,-0.38,-0.57,-0.53,-0.56,-0.3,-0.36,-0.75,-0.81,-0.55]},\"maxdepth\":5,\"name\":\"\",\"parents\":[\"Cerebrum\",\"Cerebrum\",\"Cerebrospinal Fluid\",\"Cerebrospinal Fluid\",\"Cerebrospinal Fluid\",\"Cerebrospinal Fluid\",\"Corpus Callosum\",\"Corpus Callosum\",\"Corpus Callosum\",\"Corpus Callosum\",\"Right Cerebellum\",\"Right Cerebellum\",\"White Matter\",\"Cerebrospinal Fluid\",\"Cerebrospinal Fluid\",\"Cerebrospinal Fluid\",\"White Matter\",\"Cerebrospinal Fluid\",\"White Matter\",\"Left Cerebellum\",\"\",\"Cerebellum\",\"Cerebellum\",\"White Matter\",\"Brain Region\",\"Cerebrospinal Fluid\",\"Brain Region\",\"Corpus Callosum\",\"Brain Region\",\"Brain Region\",\"Cerebrum\",\"Left Cerebellum\",\"Right Cerebrum\",\"Left Cerebrum\",\"Right Cerebrum\",\"Left Cerebrum\",\"Left Cerebrum\",\"Right Cerebrum\",\"Right Cerebrum\",\"Left Cerebrum\",\"Right Cerebrum\",\"Left Cerebrum\",\"Right Cerebrum\",\"Left Cerebrum\",\"Left Cerebrum\",\"Right Cerebrum\",\"Left Cerebrum\",\"Right Cerebrum\",\"Right Frontal Lobe\",\"Left Frontal Lobe\",\"Left Frontal Lobe\",\"Right Frontal Lobe\",\"Right Frontal Lobe\",\"Left Frontal Lobe\",\"Right Frontal Lobe\",\"Left Frontal Lobe\",\"Left Frontal Lobe\",\"Right Frontal Lobe\",\"Left Frontal Lobe\",\"Right Frontal Lobe\",\"Left Frontal Lobe\",\"Right Frontal Lobe\",\"Left Frontal Lobe\",\"Right Frontal Lobe\",\"Left Frontal Lobe\",\"Right Frontal Lobe\",\"Right Frontal Lobe\",\"Left Frontal Lobe\",\"Right Parietal Lobe\",\"Left Parietal Lobe\",\"Left Parietal Lobe\",\"Right Parietal Lobe\",\"Right Parietal Lobe\",\"Left Parietal Lobe\",\"Right Parietal Lobe\",\"Left Parietal Lobe\",\"Left Parietal Lobe\",\"Right Parietal Lobe\",\"Right Temporal Lobe\",\"Left Temporal Lobe\",\"Right Temporal Lobe\",\"Left Temporal Lobe\",\"Right Temporal Lobe\",\"Left Temporal Lobe\",\"Left Temporal Lobe\",\"Right Temporal Lobe\",\"Right Temporal Lobe\",\"Left Temporal Lobe\",\"Right Temporal Lobe\",\"Left Temporal Lobe\",\"Right Temporal Lobe\",\"Left Temporal Lobe\",\"Right Temporal Lobe\",\"Left Temporal Lobe\",\"Right Temporal Lobe\",\"Left Temporal Lobe\",\"Right Occipital Lobe\",\"Left Occipital Lobe\",\"Right Occipital Lobe\",\"Left Occipital Lobe\",\"Left Occipital Lobe\",\"Right Occipital Lobe\",\"Right Occipital Lobe\",\"Left Occipital Lobe\",\"Left Basal Ganglia\",\"Right Basal Ganglia\",\"Left Basal Ganglia\",\"Right Basal Ganglia\",\"Right Basal Ganglia\",\"Left Basal Ganglia\",\"Right Basal Ganglia\",\"Left Basal Ganglia\",\"Left Cingulate Gyrus\",\"Right Cingulate Gyrus\",\"Left Cingulate Gyrus\",\"Right Cingulate Gyrus\",\"Right Cingulate Gyrus\",\"Left Cingulate Gyrus\",\"Left Cingulate Gyrus\",\"Right Cingulate Gyrus\",\"Right Diencephalon\",\"Left Diencephalon\",\"Right Diencephalon\",\"Left Diencephalon\"],\"type\":\"sunburst\",\"rotation\":-101,\"sort\":false}],                        {\"template\":{\"data\":{\"histogram2dcontour\":[{\"type\":\"histogram2dcontour\",\"colorbar\":{\"outlinewidth\":0,\"ticks\":\"\"},\"colorscale\":[[0.0,\"#0d0887\"],[0.1111111111111111,\"#46039f\"],[0.2222222222222222,\"#7201a8\"],[0.3333333333333333,\"#9c179e\"],[0.4444444444444444,\"#bd3786\"],[0.5555555555555556,\"#d8576b\"],[0.6666666666666666,\"#ed7953\"],[0.7777777777777778,\"#fb9f3a\"],[0.8888888888888888,\"#fdca26\"],[1.0,\"#f0f921\"]]}],\"choropleth\":[{\"type\":\"choropleth\",\"colorbar\":{\"outlinewidth\":0,\"ticks\":\"\"}}],\"histogram2d\":[{\"type\":\"histogram2d\",\"colorbar\":{\"outlinewidth\":0,\"ticks\":\"\"},\"colorscale\":[[0.0,\"#0d0887\"],[0.1111111111111111,\"#46039f\"],[0.2222222222222222,\"#7201a8\"],[0.3333333333333333,\"#9c179e\"],[0.4444444444444444,\"#bd3786\"],[0.5555555555555556,\"#d8576b\"],[0.6666666666666666,\"#ed7953\"],[0.7777777777777778,\"#fb9f3a\"],[0.8888888888888888,\"#fdca26\"],[1.0,\"#f0f921\"]]}],\"heatmap\":[{\"type\":\"heatmap\",\"colorbar\":{\"outlinewidth\":0,\"ticks\":\"\"},\"colorscale\":[[0.0,\"#0d0887\"],[0.1111111111111111,\"#46039f\"],[0.2222222222222222,\"#7201a8\"],[0.3333333333333333,\"#9c179e\"],[0.4444444444444444,\"#bd3786\"],[0.5555555555555556,\"#d8576b\"],[0.6666666666666666,\"#ed7953\"],[0.7777777777777778,\"#fb9f3a\"],[0.8888888888888888,\"#fdca26\"],[1.0,\"#f0f921\"]]}],\"heatmapgl\":[{\"type\":\"heatmapgl\",\"colorbar\":{\"outlinewidth\":0,\"ticks\":\"\"},\"colorscale\":[[0.0,\"#0d0887\"],[0.1111111111111111,\"#46039f\"],[0.2222222222222222,\"#7201a8\"],[0.3333333333333333,\"#9c179e\"],[0.4444444444444444,\"#bd3786\"],[0.5555555555555556,\"#d8576b\"],[0.6666666666666666,\"#ed7953\"],[0.7777777777777778,\"#fb9f3a\"],[0.8888888888888888,\"#fdca26\"],[1.0,\"#f0f921\"]]}],\"contourcarpet\":[{\"type\":\"contourcarpet\",\"colorbar\":{\"outlinewidth\":0,\"ticks\":\"\"}}],\"contour\":[{\"type\":\"contour\",\"colorbar\":{\"outlinewidth\":0,\"ticks\":\"\"},\"colorscale\":[[0.0,\"#0d0887\"],[0.1111111111111111,\"#46039f\"],[0.2222222222222222,\"#7201a8\"],[0.3333333333333333,\"#9c179e\"],[0.4444444444444444,\"#bd3786\"],[0.5555555555555556,\"#d8576b\"],[0.6666666666666666,\"#ed7953\"],[0.7777777777777778,\"#fb9f3a\"],[0.8888888888888888,\"#fdca26\"],[1.0,\"#f0f921\"]]}],\"surface\":[{\"type\":\"surface\",\"colorbar\":{\"outlinewidth\":0,\"ticks\":\"\"},\"colorscale\":[[0.0,\"#0d0887\"],[0.1111111111111111,\"#46039f\"],[0.2222222222222222,\"#7201a8\"],[0.3333333333333333,\"#9c179e\"],[0.4444444444444444,\"#bd3786\"],[0.5555555555555556,\"#d8576b\"],[0.6666666666666666,\"#ed7953\"],[0.7777777777777778,\"#fb9f3a\"],[0.8888888888888888,\"#fdca26\"],[1.0,\"#f0f921\"]]}],\"mesh3d\":[{\"type\":\"mesh3d\",\"colorbar\":{\"outlinewidth\":0,\"ticks\":\"\"}}],\"scatter\":[{\"fillpattern\":{\"fillmode\":\"overlay\",\"size\":10,\"solidity\":0.2},\"type\":\"scatter\"}],\"parcoords\":[{\"type\":\"parcoords\",\"line\":{\"colorbar\":{\"outlinewidth\":0,\"ticks\":\"\"}}}],\"scatterpolargl\":[{\"type\":\"scatterpolargl\",\"marker\":{\"colorbar\":{\"outlinewidth\":0,\"ticks\":\"\"}}}],\"bar\":[{\"error_x\":{\"color\":\"#2a3f5f\"},\"error_y\":{\"color\":\"#2a3f5f\"},\"marker\":{\"line\":{\"color\":\"#E5ECF6\",\"width\":0.5},\"pattern\":{\"fillmode\":\"overlay\",\"size\":10,\"solidity\":0.2}},\"type\":\"bar\"}],\"scattergeo\":[{\"type\":\"scattergeo\",\"marker\":{\"colorbar\":{\"outlinewidth\":0,\"ticks\":\"\"}}}],\"scatterpolar\":[{\"type\":\"scatterpolar\",\"marker\":{\"colorbar\":{\"outlinewidth\":0,\"ticks\":\"\"}}}],\"histogram\":[{\"marker\":{\"pattern\":{\"fillmode\":\"overlay\",\"size\":10,\"solidity\":0.2}},\"type\":\"histogram\"}],\"scattergl\":[{\"type\":\"scattergl\",\"marker\":{\"colorbar\":{\"outlinewidth\":0,\"ticks\":\"\"}}}],\"scatter3d\":[{\"type\":\"scatter3d\",\"line\":{\"colorbar\":{\"outlinewidth\":0,\"ticks\":\"\"}},\"marker\":{\"colorbar\":{\"outlinewidth\":0,\"ticks\":\"\"}}}],\"scattermapbox\":[{\"type\":\"scattermapbox\",\"marker\":{\"colorbar\":{\"outlinewidth\":0,\"ticks\":\"\"}}}],\"scatterternary\":[{\"type\":\"scatterternary\",\"marker\":{\"colorbar\":{\"outlinewidth\":0,\"ticks\":\"\"}}}],\"scattercarpet\":[{\"type\":\"scattercarpet\",\"marker\":{\"colorbar\":{\"outlinewidth\":0,\"ticks\":\"\"}}}],\"carpet\":[{\"aaxis\":{\"endlinecolor\":\"#2a3f5f\",\"gridcolor\":\"white\",\"linecolor\":\"white\",\"minorgridcolor\":\"white\",\"startlinecolor\":\"#2a3f5f\"},\"baxis\":{\"endlinecolor\":\"#2a3f5f\",\"gridcolor\":\"white\",\"linecolor\":\"white\",\"minorgridcolor\":\"white\",\"startlinecolor\":\"#2a3f5f\"},\"type\":\"carpet\"}],\"table\":[{\"cells\":{\"fill\":{\"color\":\"#EBF0F8\"},\"line\":{\"color\":\"white\"}},\"header\":{\"fill\":{\"color\":\"#C8D4E3\"},\"line\":{\"color\":\"white\"}},\"type\":\"table\"}],\"barpolar\":[{\"marker\":{\"line\":{\"color\":\"#E5ECF6\",\"width\":0.5},\"pattern\":{\"fillmode\":\"overlay\",\"size\":10,\"solidity\":0.2}},\"type\":\"barpolar\"}],\"pie\":[{\"automargin\":true,\"type\":\"pie\"}]},\"layout\":{\"autotypenumbers\":\"strict\",\"colorway\":[\"#636efa\",\"#EF553B\",\"#00cc96\",\"#ab63fa\",\"#FFA15A\",\"#19d3f3\",\"#FF6692\",\"#B6E880\",\"#FF97FF\",\"#FECB52\"],\"font\":{\"color\":\"#2a3f5f\"},\"hovermode\":\"closest\",\"hoverlabel\":{\"align\":\"left\"},\"paper_bgcolor\":\"white\",\"plot_bgcolor\":\"#E5ECF6\",\"polar\":{\"bgcolor\":\"#E5ECF6\",\"angularaxis\":{\"gridcolor\":\"white\",\"linecolor\":\"white\",\"ticks\":\"\"},\"radialaxis\":{\"gridcolor\":\"white\",\"linecolor\":\"white\",\"ticks\":\"\"}},\"ternary\":{\"bgcolor\":\"#E5ECF6\",\"aaxis\":{\"gridcolor\":\"white\",\"linecolor\":\"white\",\"ticks\":\"\"},\"baxis\":{\"gridcolor\":\"white\",\"linecolor\":\"white\",\"ticks\":\"\"},\"caxis\":{\"gridcolor\":\"white\",\"linecolor\":\"white\",\"ticks\":\"\"}},\"coloraxis\":{\"colorbar\":{\"outlinewidth\":0,\"ticks\":\"\"}},\"colorscale\":{\"sequential\":[[0.0,\"#0d0887\"],[0.1111111111111111,\"#46039f\"],[0.2222222222222222,\"#7201a8\"],[0.3333333333333333,\"#9c179e\"],[0.4444444444444444,\"#bd3786\"],[0.5555555555555556,\"#d8576b\"],[0.6666666666666666,\"#ed7953\"],[0.7777777777777778,\"#fb9f3a\"],[0.8888888888888888,\"#fdca26\"],[1.0,\"#f0f921\"]],\"sequentialminus\":[[0.0,\"#0d0887\"],[0.1111111111111111,\"#46039f\"],[0.2222222222222222,\"#7201a8\"],[0.3333333333333333,\"#9c179e\"],[0.4444444444444444,\"#bd3786\"],[0.5555555555555556,\"#d8576b\"],[0.6666666666666666,\"#ed7953\"],[0.7777777777777778,\"#fb9f3a\"],[0.8888888888888888,\"#fdca26\"],[1.0,\"#f0f921\"]],\"diverging\":[[0,\"#8e0152\"],[0.1,\"#c51b7d\"],[0.2,\"#de77ae\"],[0.3,\"#f1b6da\"],[0.4,\"#fde0ef\"],[0.5,\"#f7f7f7\"],[0.6,\"#e6f5d0\"],[0.7,\"#b8e186\"],[0.8,\"#7fbc41\"],[0.9,\"#4d9221\"],[1,\"#276419\"]]},\"xaxis\":{\"gridcolor\":\"white\",\"linecolor\":\"white\",\"ticks\":\"\",\"title\":{\"standoff\":15},\"zerolinecolor\":\"white\",\"automargin\":true,\"zerolinewidth\":2},\"yaxis\":{\"gridcolor\":\"white\",\"linecolor\":\"white\",\"ticks\":\"\",\"title\":{\"standoff\":15},\"zerolinecolor\":\"white\",\"automargin\":true,\"zerolinewidth\":2},\"scene\":{\"xaxis\":{\"backgroundcolor\":\"#E5ECF6\",\"gridcolor\":\"white\",\"linecolor\":\"white\",\"showbackground\":true,\"ticks\":\"\",\"zerolinecolor\":\"white\",\"gridwidth\":2},\"yaxis\":{\"backgroundcolor\":\"#E5ECF6\",\"gridcolor\":\"white\",\"linecolor\":\"white\",\"showbackground\":true,\"ticks\":\"\",\"zerolinecolor\":\"white\",\"gridwidth\":2},\"zaxis\":{\"backgroundcolor\":\"#E5ECF6\",\"gridcolor\":\"white\",\"linecolor\":\"white\",\"showbackground\":true,\"ticks\":\"\",\"zerolinecolor\":\"white\",\"gridwidth\":2}},\"shapedefaults\":{\"line\":{\"color\":\"#2a3f5f\"}},\"annotationdefaults\":{\"arrowcolor\":\"#2a3f5f\",\"arrowhead\":0,\"arrowwidth\":1},\"geo\":{\"bgcolor\":\"white\",\"landcolor\":\"#E5ECF6\",\"subunitcolor\":\"white\",\"showland\":true,\"showlakes\":true,\"lakecolor\":\"white\"},\"title\":{\"x\":0.05},\"mapbox\":{\"style\":\"light\"}}},\"coloraxis\":{\"colorbar\":{\"title\":{\"text\":\"w-score\"}},\"colorscale\":[[0.0,\"rgb(81,0,17)\"],[0.08333333333333333,\"rgb(165,0,38)\"],[0.16666666666666666,\"rgb(215,48,39)\"],[0.25,\"rgb(244,109,67)\"],[0.3333333333333333,\"rgb(253,174,97)\"],[0.4166666666666667,\"rgb(254,235,181)\"],[0.5,\"rgb(250,248,233)\"],[0.5833333333333334,\"rgb(254,235,181)\"],[0.6666666666666666,\"rgb(253,174,97)\"],[0.75,\"rgb(244,109,67)\"],[0.8333333333333334,\"rgb(215,48,39)\"],[0.9166666666666666,\"rgb(165,0,38)\"],[1.0,\"rgb(81,0,17)\"]],\"cmid\":0,\"cmin\":-5,\"cmax\":5},\"legend\":{\"tracegroupgap\":0},\"margin\":{\"t\":60},\"title\":{\"text\":\"Sunburst ROI Volume W-score Diagram | Mean AD Distribution | Data Cohort: ADNI3\"},\"font\":{\"size\":10},\"autosize\":false,\"width\":800,\"height\":800},                        {\"responsive\": true}                    ).then(function(){\n",
              "                            \n",
              "var gd = document.getElementById('486fb90c-36bf-44ee-909e-705e6abc4d01');\n",
              "var x = new MutationObserver(function (mutations, observer) {{\n",
              "        var display = window.getComputedStyle(gd).display;\n",
              "        if (!display || display === 'none') {{\n",
              "            console.log([gd, 'removed!']);\n",
              "            Plotly.purge(gd);\n",
              "            observer.disconnect();\n",
              "        }}\n",
              "}});\n",
              "\n",
              "// Listen for the removal of the full notebook cells\n",
              "var notebookContainer = gd.closest('#notebook-container');\n",
              "if (notebookContainer) {{\n",
              "    x.observe(notebookContainer, {childList: true});\n",
              "}}\n",
              "\n",
              "// Listen for the clearing of the current output cell\n",
              "var outputEl = gd.closest('.output');\n",
              "if (outputEl) {{\n",
              "    x.observe(outputEl, {childList: true});\n",
              "}}\n",
              "\n",
              "                        })                };                            </script>        </div>\n",
              "</body>\n",
              "</html>"
            ]
          },
          "metadata": {}
        }
      ],
      "source": [
        "fig1 = px.sunburst(df_plot, names='ROI', parents='parent',\n",
        "                   color='w-score',\n",
        "                   color_continuous_scale=custom_RYR,\n",
        "                   color_continuous_midpoint= 0,\n",
        "                   range_color=[-5,5],\n",
        "                   maxdepth = 5,      #controls the number of levels one sees at a time, choose between [4,5]\n",
        "                   )\n",
        "fig1.update_layout(title_text=\"Sunburst ROI Volume W-score Diagram | Mean {} Distribution | Data Cohort: {}\".format(stage, cohort),\n",
        "                   font_size=10,\n",
        "                   autosize=False,  width=800, height=800)\n",
        "\n",
        "#Turn off plotly's internal sorting, and rotate the chart to get the vertical L-R alignment\n",
        "fig1.update_traces(sort=False, rotation=-101, selector=dict(type='sunburst'))    #100,53\n",
        "\n",
        "\n",
        "fig1.show()\n",
        "fig1.write_html(\"{}_{}_mean_w_Sunburst.html\".format(cohort,stage))"
      ]
    },
    {
      "cell_type": "markdown",
      "metadata": {
        "id": "5yXXLAzQSidy"
      },
      "source": [
        "##Ex2: Plot a single sample's w-score plot"
      ]
    },
    {
      "cell_type": "code",
      "execution_count": 35,
      "metadata": {
        "id": "OWniwtk67qvd"
      },
      "outputs": [],
      "source": [
        "#If we pick a random AD sample for plotting.\n",
        "sample_id = ['6650']\n",
        "stage = 'AD'\n",
        "cohort='ADNI3'\n",
        "df_sample_w = df_w[df_w['sid'].isin(sample_id)]\n",
        "\n",
        "w_dict = df_sample_w[df_sample_w.columns[9:]].mean().to_dict()\n",
        "\n",
        "#copy the sample-df with the parent-child relations, and replace the w-scores\n",
        "df_plot = df_.copy()\n",
        "for index in df_plot.index:\n",
        "  df_plot.loc[index, 'w-score'] = w_dict[df_plot.loc[index].ROI]\n",
        "df_plot['w-score'] = df_plot['w-score'].round(2)   #round up the w-scores to get rid of the trailing digits\n",
        "\n",
        "#cleaning up the names of the ROIs\n",
        "df_plot['ROI'] = df_plot['ROI'].map(lambda x: x.replace('-',' ').replace('_',' '))\n",
        "df_plot['parent'] = df_plot['parent'].map(lambda x: x.replace('-',' ').replace('_',' '))\n",
        "\n",
        "#Add the sorting code to the dataframe and sort the w-scores based on it\n",
        "df_plot = sort_code(df_plot)\n",
        "df_plot.sort_values('sort', inplace=True)"
      ]
    },
    {
      "cell_type": "code",
      "execution_count": 36,
      "metadata": {
        "colab": {
          "base_uri": "https://localhost:8080/",
          "height": 817
        },
        "id": "EpC6Vzo6z0Vy",
        "outputId": "6cf1cddd-3510-4320-a08e-3a38cfcab60e"
      },
      "outputs": [
        {
          "output_type": "display_data",
          "data": {
            "text/html": [
              "<html>\n",
              "<head><meta charset=\"utf-8\" /></head>\n",
              "<body>\n",
              "    <div>            <script src=\"https://cdnjs.cloudflare.com/ajax/libs/mathjax/2.7.5/MathJax.js?config=TeX-AMS-MML_SVG\"></script><script type=\"text/javascript\">if (window.MathJax && window.MathJax.Hub && window.MathJax.Hub.Config) {window.MathJax.Hub.Config({SVG: {font: \"STIX-Web\"}});}</script>                <script type=\"text/javascript\">window.PlotlyConfig = {MathJaxConfig: 'local'};</script>\n",
              "        <script charset=\"utf-8\" src=\"https://cdn.plot.ly/plotly-2.24.1.min.js\"></script>                <div id=\"6543c6ef-e797-4010-8d76-df363adefa32\" class=\"plotly-graph-div\" style=\"height:800px; width:800px;\"></div>            <script type=\"text/javascript\">                                    window.PLOTLYENV=window.PLOTLYENV || {};                                    if (document.getElementById(\"6543c6ef-e797-4010-8d76-df363adefa32\")) {                    Plotly.newPlot(                        \"6543c6ef-e797-4010-8d76-df363adefa32\",                        [{\"domain\":{\"x\":[0.0,1.0],\"y\":[0.0,1.0]},\"hovertemplate\":\"ROI=%{label}\\u003cbr\\u003eparent=%{parent}\\u003cbr\\u003ew-score=%{color}\\u003cextra\\u003e\\u003c\\u002fextra\\u003e\",\"labels\":[\"Right Cerebrum\",\"Left Cerebrum\",\"Left Choroid Plexus\",\"Left Inf Lat Vent\",\"Left Lateral Ventricle\",\"4th Ventricle\",\"Mid Anterior\",\"Mid Posterior\",\"Posterior\",\"Anterior\",\"Right Cerebellum Cortex\",\"Right Cerebellum White Matter\",\"Right Cerebral White Matter\",\"Right Choroid Plexus\",\"Right Inf Lat Vent\",\"Right Lateral Ventricle\",\"WM Hypointensities\",\"3rd Ventricle\",\"Left Cerebral White Matter\",\"Left Cerebellum White Matter\",\"Brain Region\",\"Right Cerebellum\",\"Left Cerebellum\",\"Corpus Callosum\",\"Brainstem\",\"CSF\",\"Cerebrospinal Fluid\",\"Central\",\"Cerebellum\",\"Cerebrum\",\"White Matter\",\"Left Cerebellum Cortex\",\"Right Insula\",\"Left Frontal Lobe\",\"Right Diencephalon\",\"Left Parietal Lobe\",\"Left Temporal Lobe\",\"Right Cingulate Gyrus\",\"Right Basal Ganglia\",\"Left Occipital Lobe\",\"Right Occipital Lobe\",\"Left Basal Ganglia\",\"Right Temporal Lobe\",\"Left Cingulate Gyrus\",\"Left Diencephalon\",\"Right Parietal Lobe\",\"Left Insula\",\"Right Frontal Lobe\",\"Right Superior Frontal\",\"Left Caudal Middle Frontal\",\"Left Lateral Orbitofrontal\",\"Right Rostral Middle Frontal\",\"Right Precentral\",\"Left Medial Orbitofrontal\",\"Right Pars Triangularis\",\"Left Paracentral\",\"Left Pars Opercularis\",\"Right Pars Orbitalis\",\"Left Pars Orbitalis\",\"Right Pars Opercularis\",\"Left Pars Triangularis\",\"Right Paracentral\",\"Left Precentral\",\"Right Medial Orbitofrontal\",\"Left Rostral Middle Frontal\",\"Right Lateral Orbitofrontal\",\"Right Caudal Middle Frontal\",\"Left Superior Frontal\",\"Right Supramarginal\",\"Left Inferior Parietal\",\"Left Postcentral\",\"Right Superior Parietal\",\"Right Precuneus\",\"Left Precuneus\",\"Right Postcentral\",\"Left Superior Parietal\",\"Left Supramarginal\",\"Right Inferior Parietal\",\"Right Transverse Temporal\",\"Left Amygdala\",\"Right Superior Temporal\",\"Left Entorhinal\",\"Right Parahippocampal\",\"Left Fusiform\",\"Left Hippocampus\",\"Right Middle Temporal\",\"Right Inferior Temporal\",\"Left Inferior Temporal\",\"Right Hippocampus\",\"Left Middle Temporal\",\"Right Fusiform\",\"Left Parahippocampal\",\"Right Entorhinal\",\"Left Superior Temporal\",\"Right Amygdala\",\"Left Transverse Temporal\",\"Right Pericalcarine\",\"Left Cuneus\",\"Right Lingual\",\"Left Lateral Occipital\",\"Left Lingual\",\"Right Lateral Occipital\",\"Right Cuneus\",\"Left Pericalcarine\",\"Left Caudate Nucleus\",\"Right Putamen\",\"Left Nucleus Accumbens\",\"Right Pallidum\",\"Right Nucleus Accumbens\",\"Left Pallidum\",\"Right Caudate Nucleus\",\"Left Putamen\",\"Left Caudal Anterior\",\"Right Rostral Anterior\",\"Left Isthmus\",\"Right Posterior\",\"Right Isthmus\",\"Left Posterior\",\"Left Rostral Anterior\",\"Right Caudal Anterior\",\"Right Ventral Diencephalon\",\"Left Thalamus\",\"Right Thalamus\",\"Left Ventral Diencephalon\"],\"marker\":{\"coloraxis\":\"coloraxis\",\"colors\":[-0.99,-0.97,0.33,-0.83,0.13,-1.6,-0.55,-0.75,1.27,0.42,-0.23,-1.22,-1.12,-0.26,0.14,0.22,-0.44,-1.48,-1.2,-1.23,-1.53,-0.56,-0.74,-0.15,-1.68,0.27,0.05,-0.8,-0.66,-1.47,-1.2,-0.45,-0.22,0.07,-1.15,-0.97,-2.42,-0.82,-0.02,-0.25,-0.45,0.13,-2.95,-0.52,-0.64,-0.47,0.16,0.24,0.82,-0.65,0.45,-0.29,-0.43,0.04,0.45,-0.57,2.46,0.48,-1.09,1.28,1.17,-0.53,-0.19,0.04,-0.49,-0.05,-0.43,0.03,-0.19,-0.93,-1.37,0.32,-0.68,-0.56,-0.36,0.13,-0.77,-0.76,0.49,-1.97,-2.4,-2.67,-1.45,-1.93,-2.07,-1.07,-2.32,-1.87,-3.15,-0.81,-2.03,-2.14,-4.18,-2.09,-3.44,1.12,0.29,-0.43,-1.03,-0.36,0.47,-0.22,-0.26,-0.47,0.04,0.04,0.17,-0.62,-0.53,-0.16,0.24,0.25,0.04,0.27,-1.44,-0.27,-1.29,-0.5,-0.02,-1.08,-1.59,0.03,-0.7,-1.63]},\"maxdepth\":5,\"name\":\"\",\"parents\":[\"Cerebrum\",\"Cerebrum\",\"Cerebrospinal Fluid\",\"Cerebrospinal Fluid\",\"Cerebrospinal Fluid\",\"Cerebrospinal Fluid\",\"Corpus Callosum\",\"Corpus Callosum\",\"Corpus Callosum\",\"Corpus Callosum\",\"Right Cerebellum\",\"Right Cerebellum\",\"White Matter\",\"Cerebrospinal Fluid\",\"Cerebrospinal Fluid\",\"Cerebrospinal Fluid\",\"White Matter\",\"Cerebrospinal Fluid\",\"White Matter\",\"Left Cerebellum\",\"\",\"Cerebellum\",\"Cerebellum\",\"White Matter\",\"Brain Region\",\"Cerebrospinal Fluid\",\"Brain Region\",\"Corpus Callosum\",\"Brain Region\",\"Brain Region\",\"Cerebrum\",\"Left Cerebellum\",\"Right Cerebrum\",\"Left Cerebrum\",\"Right Cerebrum\",\"Left Cerebrum\",\"Left Cerebrum\",\"Right Cerebrum\",\"Right Cerebrum\",\"Left Cerebrum\",\"Right Cerebrum\",\"Left Cerebrum\",\"Right Cerebrum\",\"Left Cerebrum\",\"Left Cerebrum\",\"Right Cerebrum\",\"Left Cerebrum\",\"Right Cerebrum\",\"Right Frontal Lobe\",\"Left Frontal Lobe\",\"Left Frontal Lobe\",\"Right Frontal Lobe\",\"Right Frontal Lobe\",\"Left Frontal Lobe\",\"Right Frontal Lobe\",\"Left Frontal Lobe\",\"Left Frontal Lobe\",\"Right Frontal Lobe\",\"Left Frontal Lobe\",\"Right Frontal Lobe\",\"Left Frontal Lobe\",\"Right Frontal Lobe\",\"Left Frontal Lobe\",\"Right Frontal Lobe\",\"Left Frontal Lobe\",\"Right Frontal Lobe\",\"Right Frontal Lobe\",\"Left Frontal Lobe\",\"Right Parietal Lobe\",\"Left Parietal Lobe\",\"Left Parietal Lobe\",\"Right Parietal Lobe\",\"Right Parietal Lobe\",\"Left Parietal Lobe\",\"Right Parietal Lobe\",\"Left Parietal Lobe\",\"Left Parietal Lobe\",\"Right Parietal Lobe\",\"Right Temporal Lobe\",\"Left Temporal Lobe\",\"Right Temporal Lobe\",\"Left Temporal Lobe\",\"Right Temporal Lobe\",\"Left Temporal Lobe\",\"Left Temporal Lobe\",\"Right Temporal Lobe\",\"Right Temporal Lobe\",\"Left Temporal Lobe\",\"Right Temporal Lobe\",\"Left Temporal Lobe\",\"Right Temporal Lobe\",\"Left Temporal Lobe\",\"Right Temporal Lobe\",\"Left Temporal Lobe\",\"Right Temporal Lobe\",\"Left Temporal Lobe\",\"Right Occipital Lobe\",\"Left Occipital Lobe\",\"Right Occipital Lobe\",\"Left Occipital Lobe\",\"Left Occipital Lobe\",\"Right Occipital Lobe\",\"Right Occipital Lobe\",\"Left Occipital Lobe\",\"Left Basal Ganglia\",\"Right Basal Ganglia\",\"Left Basal Ganglia\",\"Right Basal Ganglia\",\"Right Basal Ganglia\",\"Left Basal Ganglia\",\"Right Basal Ganglia\",\"Left Basal Ganglia\",\"Left Cingulate Gyrus\",\"Right Cingulate Gyrus\",\"Left Cingulate Gyrus\",\"Right Cingulate Gyrus\",\"Right Cingulate Gyrus\",\"Left Cingulate Gyrus\",\"Left Cingulate Gyrus\",\"Right Cingulate Gyrus\",\"Right Diencephalon\",\"Left Diencephalon\",\"Right Diencephalon\",\"Left Diencephalon\"],\"type\":\"sunburst\",\"rotation\":-101,\"sort\":false}],                        {\"template\":{\"data\":{\"histogram2dcontour\":[{\"type\":\"histogram2dcontour\",\"colorbar\":{\"outlinewidth\":0,\"ticks\":\"\"},\"colorscale\":[[0.0,\"#0d0887\"],[0.1111111111111111,\"#46039f\"],[0.2222222222222222,\"#7201a8\"],[0.3333333333333333,\"#9c179e\"],[0.4444444444444444,\"#bd3786\"],[0.5555555555555556,\"#d8576b\"],[0.6666666666666666,\"#ed7953\"],[0.7777777777777778,\"#fb9f3a\"],[0.8888888888888888,\"#fdca26\"],[1.0,\"#f0f921\"]]}],\"choropleth\":[{\"type\":\"choropleth\",\"colorbar\":{\"outlinewidth\":0,\"ticks\":\"\"}}],\"histogram2d\":[{\"type\":\"histogram2d\",\"colorbar\":{\"outlinewidth\":0,\"ticks\":\"\"},\"colorscale\":[[0.0,\"#0d0887\"],[0.1111111111111111,\"#46039f\"],[0.2222222222222222,\"#7201a8\"],[0.3333333333333333,\"#9c179e\"],[0.4444444444444444,\"#bd3786\"],[0.5555555555555556,\"#d8576b\"],[0.6666666666666666,\"#ed7953\"],[0.7777777777777778,\"#fb9f3a\"],[0.8888888888888888,\"#fdca26\"],[1.0,\"#f0f921\"]]}],\"heatmap\":[{\"type\":\"heatmap\",\"colorbar\":{\"outlinewidth\":0,\"ticks\":\"\"},\"colorscale\":[[0.0,\"#0d0887\"],[0.1111111111111111,\"#46039f\"],[0.2222222222222222,\"#7201a8\"],[0.3333333333333333,\"#9c179e\"],[0.4444444444444444,\"#bd3786\"],[0.5555555555555556,\"#d8576b\"],[0.6666666666666666,\"#ed7953\"],[0.7777777777777778,\"#fb9f3a\"],[0.8888888888888888,\"#fdca26\"],[1.0,\"#f0f921\"]]}],\"heatmapgl\":[{\"type\":\"heatmapgl\",\"colorbar\":{\"outlinewidth\":0,\"ticks\":\"\"},\"colorscale\":[[0.0,\"#0d0887\"],[0.1111111111111111,\"#46039f\"],[0.2222222222222222,\"#7201a8\"],[0.3333333333333333,\"#9c179e\"],[0.4444444444444444,\"#bd3786\"],[0.5555555555555556,\"#d8576b\"],[0.6666666666666666,\"#ed7953\"],[0.7777777777777778,\"#fb9f3a\"],[0.8888888888888888,\"#fdca26\"],[1.0,\"#f0f921\"]]}],\"contourcarpet\":[{\"type\":\"contourcarpet\",\"colorbar\":{\"outlinewidth\":0,\"ticks\":\"\"}}],\"contour\":[{\"type\":\"contour\",\"colorbar\":{\"outlinewidth\":0,\"ticks\":\"\"},\"colorscale\":[[0.0,\"#0d0887\"],[0.1111111111111111,\"#46039f\"],[0.2222222222222222,\"#7201a8\"],[0.3333333333333333,\"#9c179e\"],[0.4444444444444444,\"#bd3786\"],[0.5555555555555556,\"#d8576b\"],[0.6666666666666666,\"#ed7953\"],[0.7777777777777778,\"#fb9f3a\"],[0.8888888888888888,\"#fdca26\"],[1.0,\"#f0f921\"]]}],\"surface\":[{\"type\":\"surface\",\"colorbar\":{\"outlinewidth\":0,\"ticks\":\"\"},\"colorscale\":[[0.0,\"#0d0887\"],[0.1111111111111111,\"#46039f\"],[0.2222222222222222,\"#7201a8\"],[0.3333333333333333,\"#9c179e\"],[0.4444444444444444,\"#bd3786\"],[0.5555555555555556,\"#d8576b\"],[0.6666666666666666,\"#ed7953\"],[0.7777777777777778,\"#fb9f3a\"],[0.8888888888888888,\"#fdca26\"],[1.0,\"#f0f921\"]]}],\"mesh3d\":[{\"type\":\"mesh3d\",\"colorbar\":{\"outlinewidth\":0,\"ticks\":\"\"}}],\"scatter\":[{\"fillpattern\":{\"fillmode\":\"overlay\",\"size\":10,\"solidity\":0.2},\"type\":\"scatter\"}],\"parcoords\":[{\"type\":\"parcoords\",\"line\":{\"colorbar\":{\"outlinewidth\":0,\"ticks\":\"\"}}}],\"scatterpolargl\":[{\"type\":\"scatterpolargl\",\"marker\":{\"colorbar\":{\"outlinewidth\":0,\"ticks\":\"\"}}}],\"bar\":[{\"error_x\":{\"color\":\"#2a3f5f\"},\"error_y\":{\"color\":\"#2a3f5f\"},\"marker\":{\"line\":{\"color\":\"#E5ECF6\",\"width\":0.5},\"pattern\":{\"fillmode\":\"overlay\",\"size\":10,\"solidity\":0.2}},\"type\":\"bar\"}],\"scattergeo\":[{\"type\":\"scattergeo\",\"marker\":{\"colorbar\":{\"outlinewidth\":0,\"ticks\":\"\"}}}],\"scatterpolar\":[{\"type\":\"scatterpolar\",\"marker\":{\"colorbar\":{\"outlinewidth\":0,\"ticks\":\"\"}}}],\"histogram\":[{\"marker\":{\"pattern\":{\"fillmode\":\"overlay\",\"size\":10,\"solidity\":0.2}},\"type\":\"histogram\"}],\"scattergl\":[{\"type\":\"scattergl\",\"marker\":{\"colorbar\":{\"outlinewidth\":0,\"ticks\":\"\"}}}],\"scatter3d\":[{\"type\":\"scatter3d\",\"line\":{\"colorbar\":{\"outlinewidth\":0,\"ticks\":\"\"}},\"marker\":{\"colorbar\":{\"outlinewidth\":0,\"ticks\":\"\"}}}],\"scattermapbox\":[{\"type\":\"scattermapbox\",\"marker\":{\"colorbar\":{\"outlinewidth\":0,\"ticks\":\"\"}}}],\"scatterternary\":[{\"type\":\"scatterternary\",\"marker\":{\"colorbar\":{\"outlinewidth\":0,\"ticks\":\"\"}}}],\"scattercarpet\":[{\"type\":\"scattercarpet\",\"marker\":{\"colorbar\":{\"outlinewidth\":0,\"ticks\":\"\"}}}],\"carpet\":[{\"aaxis\":{\"endlinecolor\":\"#2a3f5f\",\"gridcolor\":\"white\",\"linecolor\":\"white\",\"minorgridcolor\":\"white\",\"startlinecolor\":\"#2a3f5f\"},\"baxis\":{\"endlinecolor\":\"#2a3f5f\",\"gridcolor\":\"white\",\"linecolor\":\"white\",\"minorgridcolor\":\"white\",\"startlinecolor\":\"#2a3f5f\"},\"type\":\"carpet\"}],\"table\":[{\"cells\":{\"fill\":{\"color\":\"#EBF0F8\"},\"line\":{\"color\":\"white\"}},\"header\":{\"fill\":{\"color\":\"#C8D4E3\"},\"line\":{\"color\":\"white\"}},\"type\":\"table\"}],\"barpolar\":[{\"marker\":{\"line\":{\"color\":\"#E5ECF6\",\"width\":0.5},\"pattern\":{\"fillmode\":\"overlay\",\"size\":10,\"solidity\":0.2}},\"type\":\"barpolar\"}],\"pie\":[{\"automargin\":true,\"type\":\"pie\"}]},\"layout\":{\"autotypenumbers\":\"strict\",\"colorway\":[\"#636efa\",\"#EF553B\",\"#00cc96\",\"#ab63fa\",\"#FFA15A\",\"#19d3f3\",\"#FF6692\",\"#B6E880\",\"#FF97FF\",\"#FECB52\"],\"font\":{\"color\":\"#2a3f5f\"},\"hovermode\":\"closest\",\"hoverlabel\":{\"align\":\"left\"},\"paper_bgcolor\":\"white\",\"plot_bgcolor\":\"#E5ECF6\",\"polar\":{\"bgcolor\":\"#E5ECF6\",\"angularaxis\":{\"gridcolor\":\"white\",\"linecolor\":\"white\",\"ticks\":\"\"},\"radialaxis\":{\"gridcolor\":\"white\",\"linecolor\":\"white\",\"ticks\":\"\"}},\"ternary\":{\"bgcolor\":\"#E5ECF6\",\"aaxis\":{\"gridcolor\":\"white\",\"linecolor\":\"white\",\"ticks\":\"\"},\"baxis\":{\"gridcolor\":\"white\",\"linecolor\":\"white\",\"ticks\":\"\"},\"caxis\":{\"gridcolor\":\"white\",\"linecolor\":\"white\",\"ticks\":\"\"}},\"coloraxis\":{\"colorbar\":{\"outlinewidth\":0,\"ticks\":\"\"}},\"colorscale\":{\"sequential\":[[0.0,\"#0d0887\"],[0.1111111111111111,\"#46039f\"],[0.2222222222222222,\"#7201a8\"],[0.3333333333333333,\"#9c179e\"],[0.4444444444444444,\"#bd3786\"],[0.5555555555555556,\"#d8576b\"],[0.6666666666666666,\"#ed7953\"],[0.7777777777777778,\"#fb9f3a\"],[0.8888888888888888,\"#fdca26\"],[1.0,\"#f0f921\"]],\"sequentialminus\":[[0.0,\"#0d0887\"],[0.1111111111111111,\"#46039f\"],[0.2222222222222222,\"#7201a8\"],[0.3333333333333333,\"#9c179e\"],[0.4444444444444444,\"#bd3786\"],[0.5555555555555556,\"#d8576b\"],[0.6666666666666666,\"#ed7953\"],[0.7777777777777778,\"#fb9f3a\"],[0.8888888888888888,\"#fdca26\"],[1.0,\"#f0f921\"]],\"diverging\":[[0,\"#8e0152\"],[0.1,\"#c51b7d\"],[0.2,\"#de77ae\"],[0.3,\"#f1b6da\"],[0.4,\"#fde0ef\"],[0.5,\"#f7f7f7\"],[0.6,\"#e6f5d0\"],[0.7,\"#b8e186\"],[0.8,\"#7fbc41\"],[0.9,\"#4d9221\"],[1,\"#276419\"]]},\"xaxis\":{\"gridcolor\":\"white\",\"linecolor\":\"white\",\"ticks\":\"\",\"title\":{\"standoff\":15},\"zerolinecolor\":\"white\",\"automargin\":true,\"zerolinewidth\":2},\"yaxis\":{\"gridcolor\":\"white\",\"linecolor\":\"white\",\"ticks\":\"\",\"title\":{\"standoff\":15},\"zerolinecolor\":\"white\",\"automargin\":true,\"zerolinewidth\":2},\"scene\":{\"xaxis\":{\"backgroundcolor\":\"#E5ECF6\",\"gridcolor\":\"white\",\"linecolor\":\"white\",\"showbackground\":true,\"ticks\":\"\",\"zerolinecolor\":\"white\",\"gridwidth\":2},\"yaxis\":{\"backgroundcolor\":\"#E5ECF6\",\"gridcolor\":\"white\",\"linecolor\":\"white\",\"showbackground\":true,\"ticks\":\"\",\"zerolinecolor\":\"white\",\"gridwidth\":2},\"zaxis\":{\"backgroundcolor\":\"#E5ECF6\",\"gridcolor\":\"white\",\"linecolor\":\"white\",\"showbackground\":true,\"ticks\":\"\",\"zerolinecolor\":\"white\",\"gridwidth\":2}},\"shapedefaults\":{\"line\":{\"color\":\"#2a3f5f\"}},\"annotationdefaults\":{\"arrowcolor\":\"#2a3f5f\",\"arrowhead\":0,\"arrowwidth\":1},\"geo\":{\"bgcolor\":\"white\",\"landcolor\":\"#E5ECF6\",\"subunitcolor\":\"white\",\"showland\":true,\"showlakes\":true,\"lakecolor\":\"white\"},\"title\":{\"x\":0.05},\"mapbox\":{\"style\":\"light\"}}},\"coloraxis\":{\"colorbar\":{\"title\":{\"text\":\"w-score\"}},\"colorscale\":[[0.0,\"rgb(81,0,17)\"],[0.08333333333333333,\"rgb(165,0,38)\"],[0.16666666666666666,\"rgb(215,48,39)\"],[0.25,\"rgb(244,109,67)\"],[0.3333333333333333,\"rgb(253,174,97)\"],[0.4166666666666667,\"rgb(254,235,181)\"],[0.5,\"rgb(250,248,233)\"],[0.5833333333333334,\"rgb(254,235,181)\"],[0.6666666666666666,\"rgb(253,174,97)\"],[0.75,\"rgb(244,109,67)\"],[0.8333333333333334,\"rgb(215,48,39)\"],[0.9166666666666666,\"rgb(165,0,38)\"],[1.0,\"rgb(81,0,17)\"]],\"cmid\":0,\"cmin\":-5,\"cmax\":5},\"legend\":{\"tracegroupgap\":0},\"margin\":{\"t\":60},\"title\":{\"text\":\"Sunburst ROI Volume W-score Diagram | Sample ID: 6650 | Data Cohort: ADNI3\"},\"font\":{\"size\":10},\"autosize\":false,\"width\":800,\"height\":800},                        {\"responsive\": true}                    ).then(function(){\n",
              "                            \n",
              "var gd = document.getElementById('6543c6ef-e797-4010-8d76-df363adefa32');\n",
              "var x = new MutationObserver(function (mutations, observer) {{\n",
              "        var display = window.getComputedStyle(gd).display;\n",
              "        if (!display || display === 'none') {{\n",
              "            console.log([gd, 'removed!']);\n",
              "            Plotly.purge(gd);\n",
              "            observer.disconnect();\n",
              "        }}\n",
              "}});\n",
              "\n",
              "// Listen for the removal of the full notebook cells\n",
              "var notebookContainer = gd.closest('#notebook-container');\n",
              "if (notebookContainer) {{\n",
              "    x.observe(notebookContainer, {childList: true});\n",
              "}}\n",
              "\n",
              "// Listen for the clearing of the current output cell\n",
              "var outputEl = gd.closest('.output');\n",
              "if (outputEl) {{\n",
              "    x.observe(outputEl, {childList: true});\n",
              "}}\n",
              "\n",
              "                        })                };                            </script>        </div>\n",
              "</body>\n",
              "</html>"
            ]
          },
          "metadata": {}
        }
      ],
      "source": [
        "fig2 = px.sunburst(df_plot, names='ROI', parents='parent',\n",
        "                   color='w-score',\n",
        "                   color_continuous_scale=custom_RYR,\n",
        "                   color_continuous_midpoint= 0,\n",
        "                   range_color=[-5,5],\n",
        "                   maxdepth = 5,      #controls the number of levels one sees at a time, choose between [4,5]\n",
        "                   )\n",
        "fig2.update_layout(title_text=\"Sunburst ROI Volume W-score Diagram | Sample ID: {} | Data Cohort: {}\".format(sample_id[0], cohort),\n",
        "                   font_size=10,\n",
        "                   autosize=False,  width=800, height=800)\n",
        "\n",
        "#Turn off plotly's internal sorting, and rotate the chart to get the vertical L-R alignment\n",
        "fig2.update_traces(sort=False, rotation=-101, selector=dict(type='sunburst'))    #100,53\n",
        "\n",
        "\n",
        "fig2.show()\n",
        "#fig2.write_image(\"{}_{}_mean_w_Sunburst.html\".format(sample_id[0],cohort))\n",
        "fig2.write_html(\"{}_{}_mean_w_Sunburst.html\".format(sample_id[0],cohort))"
      ]
    },
    {
      "cell_type": "code",
      "execution_count": null,
      "metadata": {
        "id": "N-NWY9u8dWdW"
      },
      "outputs": [],
      "source": []
    }
  ],
  "metadata": {
    "colab": {
      "collapsed_sections": [
        "eRJ6w4Han3Cz",
        "kDK4ls8PmkO1",
        "c0zREgBFmfgN",
        "5yXXLAzQSidy"
      ],
      "provenance": []
    },
    "kernelspec": {
      "display_name": "Python 3",
      "name": "python3"
    },
    "language_info": {
      "name": "python"
    }
  },
  "nbformat": 4,
  "nbformat_minor": 0
}