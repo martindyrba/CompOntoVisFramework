{
  "nbformat": 4,
  "nbformat_minor": 0,
  "metadata": {
    "colab": {
      "provenance": []
    },
    "kernelspec": {
      "name": "python3",
      "display_name": "Python 3"
    },
    "language_info": {
      "name": "python"
    }
  },
  "cells": [
    {
      "cell_type": "markdown",
      "source": [
        "A notebook to explore an initial attempt for visually merging the two information modalities, i.e., average cortical thickness and gray matter volume, across the ROIs. This exploration is equivalent to ‘data fusion’ strategies explored in the visual analytics literature, with the derivation of a composite metric (e.g., a ratio, min or max) for a uni-dimensional representation."
      ],
      "metadata": {
        "id": "x4fWNx9-m_B3"
      }
    },
    {
      "cell_type": "markdown",
      "source": [
        "# Import Libraries"
      ],
      "metadata": {
        "id": "OoiD3N4OiHt0"
      }
    },
    {
      "cell_type": "code",
      "source": [
        "import plotly.express as px\n",
        "import pandas as pd\n",
        "import numpy as np\n",
        "\n",
        "from sklearn.linear_model import LinearRegression\n",
        "import pickle\n",
        "import os\n",
        "\n",
        "from owlready2 import set_render_func\n",
        "from owlready2 import get_ontology\n",
        "from owlready2 import default_world\n",
        "\n",
        "from anytree import AnyNode, Node, RenderTree\n",
        "from anytree import search\n",
        "from anytree.search import find\n",
        "from anytree import PostOrderIter\n",
        "\n",
        "from operator import add\n"
      ],
      "metadata": {
        "id": "J9p0u06P-r2o"
      },
      "execution_count": null,
      "outputs": []
    },
    {
      "cell_type": "code",
      "source": [
        "#Connect to drive to import files\n",
        "from google.colab import drive\n",
        "drive.mount('/content/drive')\n",
        "#drive.mount('/gdrive', force_remount=True)"
      ],
      "metadata": {
        "colab": {
          "base_uri": "https://localhost:8080/"
        },
        "id": "Sex74RN9-uxh",
        "outputId": "ed7113ce-8aaa-4c29-e04c-118531ca90e3"
      },
      "execution_count": null,
      "outputs": [
        {
          "output_type": "stream",
          "name": "stdout",
          "text": [
            "Drive already mounted at /content/drive; to attempt to forcibly remount, call drive.mount(\"/content/drive\", force_remount=True).\n"
          ]
        }
      ]
    },
    {
      "cell_type": "markdown",
      "source": [
        "# Import Volumetric File and Thickness File"
      ],
      "metadata": {
        "id": "UPEWhzy0-yTZ"
      }
    },
    {
      "cell_type": "code",
      "source": [
        "#Load data files that contain the w-scores of the data subjects, for all the ROIs.\n",
        "\n",
        "#File1: csv file with the volumetric w-scores\n",
        "df_w_Vol = pd.read_csv( '/content/drive/My Drive/ontology/volumetric_w-scores.csv', index_col=False)\n",
        "#File2: csv file with the average cortical thickness w-scores\n",
        "df_w_ThickAvg = pd.read_csv( '/content/drive/My Drive/ontology/ThickAvg_w-scores.csv', index_col=False)"
      ],
      "metadata": {
        "id": "1b3Eg8wA-yzr"
      },
      "execution_count": null,
      "outputs": []
    },
    {
      "cell_type": "code",
      "source": [
        "# A function to set the cotical thickness w-scores for all the subcortical regions to NaN.\n",
        "# This just a step to guarantee logical coherence.\n",
        "def rule_setROItoNAs(df_sample_w):\n",
        "  ROI_zero = ['White_Matter', 'Right_Cerebral_White_Matter', 'Left_Cerebral_White_Matter', 'WM_Hypointensities', 'Corpus_Callosum', 'Central', 'Anterior','Mid_Anterior','Mid_Posterior', 'Posterior' ,\n",
        "              '3rd-Ventricle', '4th-Ventricle',  'Right_Lateral_Ventricle', 'Right_Inf-Lat-Vent', 'Left_Lateral_Ventricle', 'Left_Inf-Lat-Vent',  'Left_Choroid_Plexus', 'Right_Choroid_Plexus', 'CSF', 'Cerebrospinal_Fluid']\n",
        "\n",
        "  for ROI in ROI_zero:\n",
        "    try:\n",
        "      df_sample_w.loc[df_sample_w.index,ROI] = np.nan  #0\n",
        "    except:\n",
        "      df_sample_w[ROI] = np.nan\n",
        "\n",
        "  return df_sample_w"
      ],
      "metadata": {
        "id": "3BSsPUDm_7w4"
      },
      "execution_count": null,
      "outputs": []
    },
    {
      "cell_type": "code",
      "source": [
        "df_w_ThickAvg = rule_setROItoNAs(df_w_ThickAvg)"
      ],
      "metadata": {
        "id": "hqThwvmXDQtN"
      },
      "execution_count": null,
      "outputs": []
    },
    {
      "cell_type": "code",
      "source": [
        "#PreProcess\n",
        "df_w_Vol['sample'].replace('ADNI2/GO','ADNI', inplace=True)\n",
        "df_w_Vol['sample'].replace('ADNI3','ADNI', inplace=True)\n",
        "df_w_Vol['fullsid'] = df_w_Vol['sid'] + '_' + df_w_Vol['sample']"
      ],
      "metadata": {
        "id": "POd8KIQeDTJJ"
      },
      "execution_count": null,
      "outputs": []
    },
    {
      "cell_type": "code",
      "source": [
        "#List of all the ROI names. These are required for plotting the sunburst chart.\n",
        "ROIs = df_w_Vol.columns[9:-1]"
      ],
      "metadata": {
        "id": "g4JkYCuoFiNt"
      },
      "execution_count": null,
      "outputs": []
    },
    {
      "cell_type": "code",
      "source": [
        "# The core logic for merging two informaion modalities, i.e., w-scores of cortical thickness and gray matter volume.\n",
        "# For each ROI, we chose the most pathologic signal, to be visualized in the summary chart.\n",
        "\n",
        "def max_path(a,b):\n",
        "  #compares the abs of two numbers, i.e. w-scores, and return the bigger one with original sign\n",
        "  return a if abs(a) >= abs(b) else b\n"
      ],
      "metadata": {
        "id": "yIzkfgNPQ3zF"
      },
      "execution_count": null,
      "outputs": []
    },
    {
      "cell_type": "code",
      "source": [
        "#A new dataframe to hold the new mixed data modality, i.e., maximum pathology.\n",
        "df_w_max =  df_w_ThickAvg.copy(deep=True)\n",
        "\n",
        "try:\n",
        "  #Looping over all ids\n",
        "  for ele in df_w_Vol['fullsid']:\n",
        "    #Looping over all ROIs\n",
        "    for roi in ROIs:\n",
        "      temp_thick = float(df_w_ThickAvg.loc[df_w_ThickAvg['fullsid']==ele, roi])\n",
        "      temp_vol =  float(df_w_Vol.loc[df_w_Vol['fullsid']==ele, roi])\n",
        "\n",
        "      #replace the existing pathology w-score with the max\n",
        "      df_w_max.loc[df_w_max['fullsid']==ele, roi]  = max_path(temp_thick, temp_vol)\n",
        "except:\n",
        "  pass"
      ],
      "metadata": {
        "id": "5KK9NV-pF19d"
      },
      "execution_count": null,
      "outputs": []
    },
    {
      "cell_type": "markdown",
      "source": [
        "# Plot and Save"
      ],
      "metadata": {
        "id": "cD2tPEiYKA60"
      }
    },
    {
      "cell_type": "code",
      "source": [
        "# Dataframe with which scores w-scores for an AD-sample; To be used later, as it has the parent-child relations built into it.\n",
        "# And the ROIs are manually ordered and have an associated (rign) 'level' with them,\n",
        "df_ = pd.read_csv('/content/drive/My Drive/ontology/vis_test.csv',index_col=False).fillna('')\n",
        "df_.drop(['cn_vol', df_.columns[0]], axis=1, inplace=True)  #dropping excessive columns\n",
        "df_.rename(columns={\"z\": \"w-score\"}, inplace=True)"
      ],
      "metadata": {
        "id": "_46IRXfQKGfs"
      },
      "execution_count": null,
      "outputs": []
    },
    {
      "cell_type": "code",
      "source": [
        "def sort_code (df):\n",
        "  #To create symertirc Left and Right cerebrum regions, we sort them based on hand-made codes.\n",
        "  #In this function, we match each region to their sorting codes.\n",
        "\n",
        "  df_temp = pd.read_csv('/content/drive/My Drive/ontology/roi_SortSymmetryCode.csv')\n",
        "  sort_dict = dict(zip(df_temp.ROI, df_temp.sort_try))\n",
        "\n",
        "  df['sort'] = 0\n",
        "  for i in df.index:\n",
        "    df.loc[i, 'sort'] = sort_dict[str(df.loc[i, 'ROI'])]\n",
        "\n",
        "  return df"
      ],
      "metadata": {
        "id": "ZzKnweDwKIIK"
      },
      "execution_count": null,
      "outputs": []
    },
    {
      "cell_type": "code",
      "source": [
        "#A custom colour scale\n",
        "custom_RYG = [\n",
        "\n",
        "    \"rgb(81,0,17)\",  #~rosewood dark red\n",
        "\n",
        "    \"rgb(165,0,38)\",  #shades of red\n",
        "    \"rgb(215,48,39)\",\n",
        "    \"rgb(244,109,67)\",\n",
        "    \"rgb(253,174,97)\",\n",
        "\n",
        "    \"rgb(251,211,165)\",  #Yellow-red\n",
        "\n",
        " #   \"rgb(250,230,199)\",\n",
        "    \"rgb(250,248,233)\", #lighter yellow\n",
        "  #  \"rgb(236,239,209)\",\n",
        "\n",
        "    \"rgb(222,230,184)\",  #Yellow-Green\n",
        "\n",
        "    \"rgb(183, 225, 186)\",\n",
        "    \"rgb(110, 189, 145)\",\n",
        "    \"rgb(61, 144, 125)\",\n",
        "    \"rgb(42, 115, 113)\",  #shades of green\n",
        "\n",
        "    \"rgb(29, 80, 97)\",  #~dark blue-green\n",
        "      ]"
      ],
      "metadata": {
        "id": "5P4WiJ5sKKo5"
      },
      "execution_count": null,
      "outputs": []
    },
    {
      "cell_type": "code",
      "source": [],
      "metadata": {
        "id": "6y70l-OfKSCm"
      },
      "execution_count": null,
      "outputs": []
    },
    {
      "cell_type": "code",
      "source": [
        "#If we pick a random AD sample for plotting.\n",
        "sample_id = ['6849_ADNI']     #4770, ADNI2\n",
        "stage = 'AD'\n",
        "cohort='ADNI'\n",
        "df_sample_w = df_w_max[df_w_max['fullsid'].isin(sample_id)]\n",
        "measure = 'Max Pathology (volume or cortical thickness)'\n",
        "\n",
        "\n",
        "w_dict = df_sample_w[df_sample_w.columns[8:]].mean().to_dict()\n",
        "\n",
        "#copy the sample-df with the parent-child relations, and replace the w-scores\n",
        "df_plot = df_.copy()\n",
        "for index in df_plot.index:\n",
        "  df_plot.loc[index, 'w-score'] = w_dict[df_plot.loc[index].ROI]\n",
        "df_plot['w-score'] = df_plot['w-score'].round(2)   #round up the w-scores to get rid of the trailing digits\n",
        "\n",
        "#cleaning up the names of the ROIs\n",
        "df_plot['ROI'] = df_plot['ROI'].map(lambda x: x.replace('-',' ').replace('_',' '))\n",
        "df_plot['parent'] = df_plot['parent'].map(lambda x: x.replace('-',' ').replace('_',' '))\n",
        "\n",
        "#Add the sorting code to the dataframe and sort the w-scores based on it\n",
        "df_plot = sort_code(df_plot)\n",
        "df_plot.sort_values('sort', inplace=True)"
      ],
      "metadata": {
        "id": "QHFEnV9KKSRu"
      },
      "execution_count": null,
      "outputs": []
    },
    {
      "cell_type": "code",
      "source": [
        "fig2 = px.sunburst(df_plot, names='ROI', parents='parent',\n",
        "                   color='w-score',\n",
        "                   color_continuous_scale=custom_RYG,\n",
        "                   color_continuous_midpoint= 0,\n",
        "                   range_color=[-5,5],\n",
        "                   maxdepth = 5,      #controls the number of levels one sees at a time, choose between [4,5]\n",
        "                   )\n",
        "fig2.update_layout(title_text=\"Sunburst {} W-score | Sample ID: {} | Data Cohort: {}\".format(measure,sample_id[0], cohort),\n",
        "                   font_size=10,\n",
        "                   autosize=False,  width=800, height=800)\n",
        "\n",
        "#Turn off plotly's internal sorting, and rotate the chart to get the vertical L-R alignment\n",
        "fig2.update_traces(sort=False, rotation=-101, selector=dict(type='sunburst'))    #100,53\n",
        "\n",
        "\n",
        "fig2.show()\n",
        "#fig2.write_image(\"{}_{}_mean_w_Sunburst.html\".format(sample_id[0],cohort))\n",
        "fig2.write_html(\"{}_{}_mean_w_Sunburst.html\".format(sample_id[0],measure))"
      ],
      "metadata": {
        "colab": {
          "base_uri": "https://localhost:8080/",
          "height": 817
        },
        "id": "S9kobj3EKT5E",
        "outputId": "343e6fce-e76e-4344-e041-d02081ea69b6"
      },
      "execution_count": null,
      "outputs": [
        {
          "output_type": "display_data",
          "data": {
            "text/html": [
              "<html>\n",
              "<head><meta charset=\"utf-8\" /></head>\n",
              "<body>\n",
              "    <div>            <script src=\"https://cdnjs.cloudflare.com/ajax/libs/mathjax/2.7.5/MathJax.js?config=TeX-AMS-MML_SVG\"></script><script type=\"text/javascript\">if (window.MathJax && window.MathJax.Hub && window.MathJax.Hub.Config) {window.MathJax.Hub.Config({SVG: {font: \"STIX-Web\"}});}</script>                <script type=\"text/javascript\">window.PlotlyConfig = {MathJaxConfig: 'local'};</script>\n",
              "        <script charset=\"utf-8\" src=\"https://cdn.plot.ly/plotly-2.35.2.min.js\"></script>                <div id=\"f987f0b0-ff7d-4dc9-9b5b-0cb63bc5b649\" class=\"plotly-graph-div\" style=\"height:800px; width:800px;\"></div>            <script type=\"text/javascript\">                                    window.PLOTLYENV=window.PLOTLYENV || {};                                    if (document.getElementById(\"f987f0b0-ff7d-4dc9-9b5b-0cb63bc5b649\")) {                    Plotly.newPlot(                        \"f987f0b0-ff7d-4dc9-9b5b-0cb63bc5b649\",                        [{\"domain\":{\"x\":[0.0,1.0],\"y\":[0.0,1.0]},\"hovertemplate\":\"ROI=%{label}\\u003cbr\\u003eparent=%{parent}\\u003cbr\\u003ew-score=%{color}\\u003cextra\\u003e\\u003c\\u002fextra\\u003e\",\"labels\":[\"Right Cerebrum\",\"Left Cerebrum\",\"Left Choroid Plexus\",\"Left Inf Lat Vent\",\"Left Lateral Ventricle\",\"4th Ventricle\",\"Mid Anterior\",\"Mid Posterior\",\"Posterior\",\"Anterior\",\"Right Cerebellum Cortex\",\"Right Cerebellum White Matter\",\"Right Cerebral White Matter\",\"Right Choroid Plexus\",\"Right Inf Lat Vent\",\"Right Lateral Ventricle\",\"WM Hypointensities\",\"3rd Ventricle\",\"Left Cerebral White Matter\",\"Left Cerebellum White Matter\",\"Brain Region\",\"Right Cerebellum\",\"Left Cerebellum\",\"Corpus Callosum\",\"Brainstem\",\"CSF\",\"Cerebrospinal Fluid\",\"Central\",\"Cerebellum\",\"Cerebrum\",\"White Matter\",\"Left Cerebellum Cortex\",\"Right Insula\",\"Left Frontal Lobe\",\"Right Diencephalon\",\"Left Parietal Lobe\",\"Left Temporal Lobe\",\"Right Cingulate Gyrus\",\"Right Basal Ganglia\",\"Left Occipital Lobe\",\"Right Occipital Lobe\",\"Left Basal Ganglia\",\"Right Temporal Lobe\",\"Left Cingulate Gyrus\",\"Left Diencephalon\",\"Right Parietal Lobe\",\"Left Insula\",\"Right Frontal Lobe\",\"Right Superior Frontal\",\"Left Caudal Middle Frontal\",\"Left Lateral Orbitofrontal\",\"Right Rostral Middle Frontal\",\"Right Precentral\",\"Left Medial Orbitofrontal\",\"Right Pars Triangularis\",\"Left Paracentral\",\"Left Pars Opercularis\",\"Right Pars Orbitalis\",\"Left Pars Orbitalis\",\"Right Pars Opercularis\",\"Left Pars Triangularis\",\"Right Paracentral\",\"Left Precentral\",\"Right Medial Orbitofrontal\",\"Left Rostral Middle Frontal\",\"Right Lateral Orbitofrontal\",\"Right Caudal Middle Frontal\",\"Left Superior Frontal\",\"Right Supramarginal\",\"Left Inferior Parietal\",\"Left Postcentral\",\"Right Superior Parietal\",\"Right Precuneus\",\"Left Precuneus\",\"Right Postcentral\",\"Left Superior Parietal\",\"Left Supramarginal\",\"Right Inferior Parietal\",\"Right Transverse Temporal\",\"Left Amygdala\",\"Right Superior Temporal\",\"Left Entorhinal\",\"Right Parahippocampal\",\"Left Fusiform\",\"Left Hippocampus\",\"Right Middle Temporal\",\"Right Inferior Temporal\",\"Left Inferior Temporal\",\"Right Hippocampus\",\"Left Middle Temporal\",\"Right Fusiform\",\"Left Parahippocampal\",\"Right Entorhinal\",\"Left Superior Temporal\",\"Right Amygdala\",\"Left Transverse Temporal\",\"Right Pericalcarine\",\"Left Cuneus\",\"Right Lingual\",\"Left Lateral Occipital\",\"Left Lingual\",\"Right Lateral Occipital\",\"Right Cuneus\",\"Left Pericalcarine\",\"Left Caudate Nucleus\",\"Right Putamen\",\"Left Nucleus Accumbens\",\"Right Pallidum\",\"Right Nucleus Accumbens\",\"Left Pallidum\",\"Right Caudate Nucleus\",\"Left Putamen\",\"Left Caudal Anterior\",\"Right Rostral Anterior\",\"Left Isthmus\",\"Right Posterior\",\"Right Isthmus\",\"Left Posterior\",\"Left Rostral Anterior\",\"Right Caudal Anterior\",\"Right Ventral Diencephalon\",\"Left Thalamus\",\"Right Thalamus\",\"Left Ventral Diencephalon\"],\"marker\":{\"coloraxis\":\"coloraxis\",\"colors\":[-1.61,-1.96,0.31,3.41,0.93,0.1,-0.85,-0.17,-1.13,-0.54,-0.72,-1.68,-0.96,0.34,4.18,0.64,0.89,2.68,-1.17,-1.93,-1.81,-1.1,-1.43,-1.06,-0.4,1.62,1.06,-0.95,-1.28,-1.81,-0.99,-1.05,1.2,1.69,0.55,-1.28,-3.04,1.29,0.41,-1.23,-0.55,0.95,-1.94,-0.15,0.36,-1.42,1.06,1.35,2.0,-1.45,-1.63,-1.06,-1.89,-1.62,-0.2,2.68,1.32,0.97,1.79,-1.6,-0.67,2.56,1.57,1.53,-1.1,-1.63,-1.2,2.09,-1.8,-1.54,2.69,-0.8,-0.73,-0.98,2.42,-1.31,-1.97,-1.91,0.84,-2.71,-0.75,-2.12,-1.7,-3.0,-3.36,-1.61,-2.93,-4.44,-2.66,-2.55,-1.33,-1.97,-1.79,-1.14,-1.6,1.08,1.89,1.15,0.4,-2.81,-0.69,-1.63,0.57,1.32,0.41,0.5,0.64,1.18,0.19,1.31,-0.15,0.89,-0.49,2.15,-1.58,2.03,0.89,0.71,1.18,0.82,1.02,0.33,0.17,0.34]},\"maxdepth\":5,\"name\":\"\",\"parents\":[\"Cerebrum\",\"Cerebrum\",\"Cerebrospinal Fluid\",\"Cerebrospinal Fluid\",\"Cerebrospinal Fluid\",\"Cerebrospinal Fluid\",\"Corpus Callosum\",\"Corpus Callosum\",\"Corpus Callosum\",\"Corpus Callosum\",\"Right Cerebellum\",\"Right Cerebellum\",\"White Matter\",\"Cerebrospinal Fluid\",\"Cerebrospinal Fluid\",\"Cerebrospinal Fluid\",\"White Matter\",\"Cerebrospinal Fluid\",\"White Matter\",\"Left Cerebellum\",\"\",\"Cerebellum\",\"Cerebellum\",\"White Matter\",\"Brain Region\",\"Cerebrospinal Fluid\",\"Brain Region\",\"Corpus Callosum\",\"Brain Region\",\"Brain Region\",\"Cerebrum\",\"Left Cerebellum\",\"Right Cerebrum\",\"Left Cerebrum\",\"Right Cerebrum\",\"Left Cerebrum\",\"Left Cerebrum\",\"Right Cerebrum\",\"Right Cerebrum\",\"Left Cerebrum\",\"Right Cerebrum\",\"Left Cerebrum\",\"Right Cerebrum\",\"Left Cerebrum\",\"Left Cerebrum\",\"Right Cerebrum\",\"Left Cerebrum\",\"Right Cerebrum\",\"Right Frontal Lobe\",\"Left Frontal Lobe\",\"Left Frontal Lobe\",\"Right Frontal Lobe\",\"Right Frontal Lobe\",\"Left Frontal Lobe\",\"Right Frontal Lobe\",\"Left Frontal Lobe\",\"Left Frontal Lobe\",\"Right Frontal Lobe\",\"Left Frontal Lobe\",\"Right Frontal Lobe\",\"Left Frontal Lobe\",\"Right Frontal Lobe\",\"Left Frontal Lobe\",\"Right Frontal Lobe\",\"Left Frontal Lobe\",\"Right Frontal Lobe\",\"Right Frontal Lobe\",\"Left Frontal Lobe\",\"Right Parietal Lobe\",\"Left Parietal Lobe\",\"Left Parietal Lobe\",\"Right Parietal Lobe\",\"Right Parietal Lobe\",\"Left Parietal Lobe\",\"Right Parietal Lobe\",\"Left Parietal Lobe\",\"Left Parietal Lobe\",\"Right Parietal Lobe\",\"Right Temporal Lobe\",\"Left Temporal Lobe\",\"Right Temporal Lobe\",\"Left Temporal Lobe\",\"Right Temporal Lobe\",\"Left Temporal Lobe\",\"Left Temporal Lobe\",\"Right Temporal Lobe\",\"Right Temporal Lobe\",\"Left Temporal Lobe\",\"Right Temporal Lobe\",\"Left Temporal Lobe\",\"Right Temporal Lobe\",\"Left Temporal Lobe\",\"Right Temporal Lobe\",\"Left Temporal Lobe\",\"Right Temporal Lobe\",\"Left Temporal Lobe\",\"Right Occipital Lobe\",\"Left Occipital Lobe\",\"Right Occipital Lobe\",\"Left Occipital Lobe\",\"Left Occipital Lobe\",\"Right Occipital Lobe\",\"Right Occipital Lobe\",\"Left Occipital Lobe\",\"Left Basal Ganglia\",\"Right Basal Ganglia\",\"Left Basal Ganglia\",\"Right Basal Ganglia\",\"Right Basal Ganglia\",\"Left Basal Ganglia\",\"Right Basal Ganglia\",\"Left Basal Ganglia\",\"Left Cingulate Gyrus\",\"Right Cingulate Gyrus\",\"Left Cingulate Gyrus\",\"Right Cingulate Gyrus\",\"Right Cingulate Gyrus\",\"Left Cingulate Gyrus\",\"Left Cingulate Gyrus\",\"Right Cingulate Gyrus\",\"Right Diencephalon\",\"Left Diencephalon\",\"Right Diencephalon\",\"Left Diencephalon\"],\"type\":\"sunburst\",\"rotation\":-101,\"sort\":false}],                        {\"template\":{\"data\":{\"histogram2dcontour\":[{\"type\":\"histogram2dcontour\",\"colorbar\":{\"outlinewidth\":0,\"ticks\":\"\"},\"colorscale\":[[0.0,\"#0d0887\"],[0.1111111111111111,\"#46039f\"],[0.2222222222222222,\"#7201a8\"],[0.3333333333333333,\"#9c179e\"],[0.4444444444444444,\"#bd3786\"],[0.5555555555555556,\"#d8576b\"],[0.6666666666666666,\"#ed7953\"],[0.7777777777777778,\"#fb9f3a\"],[0.8888888888888888,\"#fdca26\"],[1.0,\"#f0f921\"]]}],\"choropleth\":[{\"type\":\"choropleth\",\"colorbar\":{\"outlinewidth\":0,\"ticks\":\"\"}}],\"histogram2d\":[{\"type\":\"histogram2d\",\"colorbar\":{\"outlinewidth\":0,\"ticks\":\"\"},\"colorscale\":[[0.0,\"#0d0887\"],[0.1111111111111111,\"#46039f\"],[0.2222222222222222,\"#7201a8\"],[0.3333333333333333,\"#9c179e\"],[0.4444444444444444,\"#bd3786\"],[0.5555555555555556,\"#d8576b\"],[0.6666666666666666,\"#ed7953\"],[0.7777777777777778,\"#fb9f3a\"],[0.8888888888888888,\"#fdca26\"],[1.0,\"#f0f921\"]]}],\"heatmap\":[{\"type\":\"heatmap\",\"colorbar\":{\"outlinewidth\":0,\"ticks\":\"\"},\"colorscale\":[[0.0,\"#0d0887\"],[0.1111111111111111,\"#46039f\"],[0.2222222222222222,\"#7201a8\"],[0.3333333333333333,\"#9c179e\"],[0.4444444444444444,\"#bd3786\"],[0.5555555555555556,\"#d8576b\"],[0.6666666666666666,\"#ed7953\"],[0.7777777777777778,\"#fb9f3a\"],[0.8888888888888888,\"#fdca26\"],[1.0,\"#f0f921\"]]}],\"heatmapgl\":[{\"type\":\"heatmapgl\",\"colorbar\":{\"outlinewidth\":0,\"ticks\":\"\"},\"colorscale\":[[0.0,\"#0d0887\"],[0.1111111111111111,\"#46039f\"],[0.2222222222222222,\"#7201a8\"],[0.3333333333333333,\"#9c179e\"],[0.4444444444444444,\"#bd3786\"],[0.5555555555555556,\"#d8576b\"],[0.6666666666666666,\"#ed7953\"],[0.7777777777777778,\"#fb9f3a\"],[0.8888888888888888,\"#fdca26\"],[1.0,\"#f0f921\"]]}],\"contourcarpet\":[{\"type\":\"contourcarpet\",\"colorbar\":{\"outlinewidth\":0,\"ticks\":\"\"}}],\"contour\":[{\"type\":\"contour\",\"colorbar\":{\"outlinewidth\":0,\"ticks\":\"\"},\"colorscale\":[[0.0,\"#0d0887\"],[0.1111111111111111,\"#46039f\"],[0.2222222222222222,\"#7201a8\"],[0.3333333333333333,\"#9c179e\"],[0.4444444444444444,\"#bd3786\"],[0.5555555555555556,\"#d8576b\"],[0.6666666666666666,\"#ed7953\"],[0.7777777777777778,\"#fb9f3a\"],[0.8888888888888888,\"#fdca26\"],[1.0,\"#f0f921\"]]}],\"surface\":[{\"type\":\"surface\",\"colorbar\":{\"outlinewidth\":0,\"ticks\":\"\"},\"colorscale\":[[0.0,\"#0d0887\"],[0.1111111111111111,\"#46039f\"],[0.2222222222222222,\"#7201a8\"],[0.3333333333333333,\"#9c179e\"],[0.4444444444444444,\"#bd3786\"],[0.5555555555555556,\"#d8576b\"],[0.6666666666666666,\"#ed7953\"],[0.7777777777777778,\"#fb9f3a\"],[0.8888888888888888,\"#fdca26\"],[1.0,\"#f0f921\"]]}],\"mesh3d\":[{\"type\":\"mesh3d\",\"colorbar\":{\"outlinewidth\":0,\"ticks\":\"\"}}],\"scatter\":[{\"fillpattern\":{\"fillmode\":\"overlay\",\"size\":10,\"solidity\":0.2},\"type\":\"scatter\"}],\"parcoords\":[{\"type\":\"parcoords\",\"line\":{\"colorbar\":{\"outlinewidth\":0,\"ticks\":\"\"}}}],\"scatterpolargl\":[{\"type\":\"scatterpolargl\",\"marker\":{\"colorbar\":{\"outlinewidth\":0,\"ticks\":\"\"}}}],\"bar\":[{\"error_x\":{\"color\":\"#2a3f5f\"},\"error_y\":{\"color\":\"#2a3f5f\"},\"marker\":{\"line\":{\"color\":\"#E5ECF6\",\"width\":0.5},\"pattern\":{\"fillmode\":\"overlay\",\"size\":10,\"solidity\":0.2}},\"type\":\"bar\"}],\"scattergeo\":[{\"type\":\"scattergeo\",\"marker\":{\"colorbar\":{\"outlinewidth\":0,\"ticks\":\"\"}}}],\"scatterpolar\":[{\"type\":\"scatterpolar\",\"marker\":{\"colorbar\":{\"outlinewidth\":0,\"ticks\":\"\"}}}],\"histogram\":[{\"marker\":{\"pattern\":{\"fillmode\":\"overlay\",\"size\":10,\"solidity\":0.2}},\"type\":\"histogram\"}],\"scattergl\":[{\"type\":\"scattergl\",\"marker\":{\"colorbar\":{\"outlinewidth\":0,\"ticks\":\"\"}}}],\"scatter3d\":[{\"type\":\"scatter3d\",\"line\":{\"colorbar\":{\"outlinewidth\":0,\"ticks\":\"\"}},\"marker\":{\"colorbar\":{\"outlinewidth\":0,\"ticks\":\"\"}}}],\"scattermapbox\":[{\"type\":\"scattermapbox\",\"marker\":{\"colorbar\":{\"outlinewidth\":0,\"ticks\":\"\"}}}],\"scatterternary\":[{\"type\":\"scatterternary\",\"marker\":{\"colorbar\":{\"outlinewidth\":0,\"ticks\":\"\"}}}],\"scattercarpet\":[{\"type\":\"scattercarpet\",\"marker\":{\"colorbar\":{\"outlinewidth\":0,\"ticks\":\"\"}}}],\"carpet\":[{\"aaxis\":{\"endlinecolor\":\"#2a3f5f\",\"gridcolor\":\"white\",\"linecolor\":\"white\",\"minorgridcolor\":\"white\",\"startlinecolor\":\"#2a3f5f\"},\"baxis\":{\"endlinecolor\":\"#2a3f5f\",\"gridcolor\":\"white\",\"linecolor\":\"white\",\"minorgridcolor\":\"white\",\"startlinecolor\":\"#2a3f5f\"},\"type\":\"carpet\"}],\"table\":[{\"cells\":{\"fill\":{\"color\":\"#EBF0F8\"},\"line\":{\"color\":\"white\"}},\"header\":{\"fill\":{\"color\":\"#C8D4E3\"},\"line\":{\"color\":\"white\"}},\"type\":\"table\"}],\"barpolar\":[{\"marker\":{\"line\":{\"color\":\"#E5ECF6\",\"width\":0.5},\"pattern\":{\"fillmode\":\"overlay\",\"size\":10,\"solidity\":0.2}},\"type\":\"barpolar\"}],\"pie\":[{\"automargin\":true,\"type\":\"pie\"}]},\"layout\":{\"autotypenumbers\":\"strict\",\"colorway\":[\"#636efa\",\"#EF553B\",\"#00cc96\",\"#ab63fa\",\"#FFA15A\",\"#19d3f3\",\"#FF6692\",\"#B6E880\",\"#FF97FF\",\"#FECB52\"],\"font\":{\"color\":\"#2a3f5f\"},\"hovermode\":\"closest\",\"hoverlabel\":{\"align\":\"left\"},\"paper_bgcolor\":\"white\",\"plot_bgcolor\":\"#E5ECF6\",\"polar\":{\"bgcolor\":\"#E5ECF6\",\"angularaxis\":{\"gridcolor\":\"white\",\"linecolor\":\"white\",\"ticks\":\"\"},\"radialaxis\":{\"gridcolor\":\"white\",\"linecolor\":\"white\",\"ticks\":\"\"}},\"ternary\":{\"bgcolor\":\"#E5ECF6\",\"aaxis\":{\"gridcolor\":\"white\",\"linecolor\":\"white\",\"ticks\":\"\"},\"baxis\":{\"gridcolor\":\"white\",\"linecolor\":\"white\",\"ticks\":\"\"},\"caxis\":{\"gridcolor\":\"white\",\"linecolor\":\"white\",\"ticks\":\"\"}},\"coloraxis\":{\"colorbar\":{\"outlinewidth\":0,\"ticks\":\"\"}},\"colorscale\":{\"sequential\":[[0.0,\"#0d0887\"],[0.1111111111111111,\"#46039f\"],[0.2222222222222222,\"#7201a8\"],[0.3333333333333333,\"#9c179e\"],[0.4444444444444444,\"#bd3786\"],[0.5555555555555556,\"#d8576b\"],[0.6666666666666666,\"#ed7953\"],[0.7777777777777778,\"#fb9f3a\"],[0.8888888888888888,\"#fdca26\"],[1.0,\"#f0f921\"]],\"sequentialminus\":[[0.0,\"#0d0887\"],[0.1111111111111111,\"#46039f\"],[0.2222222222222222,\"#7201a8\"],[0.3333333333333333,\"#9c179e\"],[0.4444444444444444,\"#bd3786\"],[0.5555555555555556,\"#d8576b\"],[0.6666666666666666,\"#ed7953\"],[0.7777777777777778,\"#fb9f3a\"],[0.8888888888888888,\"#fdca26\"],[1.0,\"#f0f921\"]],\"diverging\":[[0,\"#8e0152\"],[0.1,\"#c51b7d\"],[0.2,\"#de77ae\"],[0.3,\"#f1b6da\"],[0.4,\"#fde0ef\"],[0.5,\"#f7f7f7\"],[0.6,\"#e6f5d0\"],[0.7,\"#b8e186\"],[0.8,\"#7fbc41\"],[0.9,\"#4d9221\"],[1,\"#276419\"]]},\"xaxis\":{\"gridcolor\":\"white\",\"linecolor\":\"white\",\"ticks\":\"\",\"title\":{\"standoff\":15},\"zerolinecolor\":\"white\",\"automargin\":true,\"zerolinewidth\":2},\"yaxis\":{\"gridcolor\":\"white\",\"linecolor\":\"white\",\"ticks\":\"\",\"title\":{\"standoff\":15},\"zerolinecolor\":\"white\",\"automargin\":true,\"zerolinewidth\":2},\"scene\":{\"xaxis\":{\"backgroundcolor\":\"#E5ECF6\",\"gridcolor\":\"white\",\"linecolor\":\"white\",\"showbackground\":true,\"ticks\":\"\",\"zerolinecolor\":\"white\",\"gridwidth\":2},\"yaxis\":{\"backgroundcolor\":\"#E5ECF6\",\"gridcolor\":\"white\",\"linecolor\":\"white\",\"showbackground\":true,\"ticks\":\"\",\"zerolinecolor\":\"white\",\"gridwidth\":2},\"zaxis\":{\"backgroundcolor\":\"#E5ECF6\",\"gridcolor\":\"white\",\"linecolor\":\"white\",\"showbackground\":true,\"ticks\":\"\",\"zerolinecolor\":\"white\",\"gridwidth\":2}},\"shapedefaults\":{\"line\":{\"color\":\"#2a3f5f\"}},\"annotationdefaults\":{\"arrowcolor\":\"#2a3f5f\",\"arrowhead\":0,\"arrowwidth\":1},\"geo\":{\"bgcolor\":\"white\",\"landcolor\":\"#E5ECF6\",\"subunitcolor\":\"white\",\"showland\":true,\"showlakes\":true,\"lakecolor\":\"white\"},\"title\":{\"x\":0.05},\"mapbox\":{\"style\":\"light\"}}},\"coloraxis\":{\"colorbar\":{\"title\":{\"text\":\"w-score\"}},\"colorscale\":[[0.0,\"rgb(81,0,17)\"],[0.08333333333333333,\"rgb(165,0,38)\"],[0.16666666666666666,\"rgb(215,48,39)\"],[0.25,\"rgb(244,109,67)\"],[0.3333333333333333,\"rgb(253,174,97)\"],[0.4166666666666667,\"rgb(251,211,165)\"],[0.5,\"rgb(250,248,233)\"],[0.5833333333333334,\"rgb(222,230,184)\"],[0.6666666666666666,\"rgb(183, 225, 186)\"],[0.75,\"rgb(110, 189, 145)\"],[0.8333333333333334,\"rgb(61, 144, 125)\"],[0.9166666666666666,\"rgb(42, 115, 113)\"],[1.0,\"rgb(29, 80, 97)\"]],\"cmid\":0,\"cmin\":-5,\"cmax\":5},\"legend\":{\"tracegroupgap\":0},\"margin\":{\"t\":60},\"title\":{\"text\":\"Sunburst Max Pathology (volume or cortical thickness) W-score | Sample ID: 6849_ADNI | Data Cohort: ADNI\"},\"font\":{\"size\":10},\"autosize\":false,\"width\":800,\"height\":800},                        {\"responsive\": true}                    ).then(function(){\n",
              "                            \n",
              "var gd = document.getElementById('f987f0b0-ff7d-4dc9-9b5b-0cb63bc5b649');\n",
              "var x = new MutationObserver(function (mutations, observer) {{\n",
              "        var display = window.getComputedStyle(gd).display;\n",
              "        if (!display || display === 'none') {{\n",
              "            console.log([gd, 'removed!']);\n",
              "            Plotly.purge(gd);\n",
              "            observer.disconnect();\n",
              "        }}\n",
              "}});\n",
              "\n",
              "// Listen for the removal of the full notebook cells\n",
              "var notebookContainer = gd.closest('#notebook-container');\n",
              "if (notebookContainer) {{\n",
              "    x.observe(notebookContainer, {childList: true});\n",
              "}}\n",
              "\n",
              "// Listen for the clearing of the current output cell\n",
              "var outputEl = gd.closest('.output');\n",
              "if (outputEl) {{\n",
              "    x.observe(outputEl, {childList: true});\n",
              "}}\n",
              "\n",
              "                        })                };                            </script>        </div>\n",
              "</body>\n",
              "</html>"
            ]
          },
          "metadata": {}
        }
      ]
    }
  ]
}